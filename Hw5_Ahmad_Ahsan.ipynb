{
 "cells": [
  {
   "cell_type": "markdown",
   "metadata": {
    "application/vnd.databricks.v1+cell": {
     "cellMetadata": {},
     "inputWidgets": {},
     "nuid": "c859aee8-5adb-43b2-a690-a5405475e5ea",
     "showTitle": false,
     "title": ""
    }
   },
   "source": [
    "# Homework Exercise 5: Spark DataFrames"
   ]
  },
  {
   "cell_type": "markdown",
   "metadata": {
    "application/vnd.databricks.v1+cell": {
     "cellMetadata": {},
     "inputWidgets": {},
     "nuid": "8f1de788-fdf1-430f-b97a-c65268dbc66f",
     "showTitle": false,
     "title": ""
    }
   },
   "source": [
    "## Task 0"
   ]
  },
  {
   "cell_type": "markdown",
   "metadata": {
    "application/vnd.databricks.v1+cell": {
     "cellMetadata": {},
     "inputWidgets": {},
     "nuid": "2ecd3084-24ef-4a16-8e61-7b206cacbca0",
     "showTitle": false,
     "title": ""
    }
   },
   "source": [
    "### Homework 5 Completed by Ahsan Ahmad"
   ]
  },
  {
   "cell_type": "code",
   "execution_count": 0,
   "metadata": {
    "application/vnd.databricks.v1+cell": {
     "cellMetadata": {
      "byteLimit": 2048000,
      "rowLimit": 10000
     },
     "inputWidgets": {},
     "nuid": "003a3f27-8e25-411e-a775-c1d1301b74b4",
     "showTitle": false,
     "title": ""
    }
   },
   "outputs": [],
   "source": [
    "import pyspark.sql.functions as F\n",
    "from pyspark.sql.types import *"
   ]
  },
  {
   "cell_type": "markdown",
   "metadata": {
    "application/vnd.databricks.v1+cell": {
     "cellMetadata": {},
     "inputWidgets": {},
     "nuid": "a351eb16-cf28-4535-b002-ed670fe28d3a",
     "showTitle": false,
     "title": ""
    }
   },
   "source": [
    "## TASK 1: Display the content of a directory that contains the data"
   ]
  },
  {
   "cell_type": "code",
   "execution_count": 0,
   "metadata": {
    "application/vnd.databricks.v1+cell": {
     "cellMetadata": {
      "byteLimit": 2048000,
      "rowLimit": 10000
     },
     "inputWidgets": {},
     "nuid": "5ddabc58-f039-4fe4-8a23-cef63cffbe65",
     "showTitle": false,
     "title": ""
    }
   },
   "outputs": [
    {
     "output_type": "display_data",
     "data": {
      "text/html": [
       "<style scoped>\n",
       "  .table-result-container {\n",
       "    max-height: 300px;\n",
       "    overflow: auto;\n",
       "  }\n",
       "  table, th, td {\n",
       "    border: 1px solid black;\n",
       "    border-collapse: collapse;\n",
       "  }\n",
       "  th, td {\n",
       "    padding: 5px;\n",
       "  }\n",
       "  th {\n",
       "    text-align: left;\n",
       "  }\n",
       "</style><div class='table-result-container'><table class='table-result'><thead style='background-color: white'><tr><th>path</th><th>name</th><th>size</th><th>modificationTime</th></tr></thead><tbody><tr><td>dbfs:/databricks-datasets/definitive-guide/data/flight-data/csv/2010-summary.csv</td><td>2010-summary.csv</td><td>7121</td><td>1522192049000</td></tr><tr><td>dbfs:/databricks-datasets/definitive-guide/data/flight-data/csv/2011-summary.csv</td><td>2011-summary.csv</td><td>7069</td><td>1522192049000</td></tr><tr><td>dbfs:/databricks-datasets/definitive-guide/data/flight-data/csv/2012-summary.csv</td><td>2012-summary.csv</td><td>6857</td><td>1522192049000</td></tr><tr><td>dbfs:/databricks-datasets/definitive-guide/data/flight-data/csv/2013-summary.csv</td><td>2013-summary.csv</td><td>7020</td><td>1522192050000</td></tr><tr><td>dbfs:/databricks-datasets/definitive-guide/data/flight-data/csv/2014-summary.csv</td><td>2014-summary.csv</td><td>6729</td><td>1522192050000</td></tr><tr><td>dbfs:/databricks-datasets/definitive-guide/data/flight-data/csv/2015-summary.csv</td><td>2015-summary.csv</td><td>7080</td><td>1522192050000</td></tr></tbody></table></div>"
      ]
     },
     "metadata": {
      "application/vnd.databricks.v1+output": {
       "addedWidgets": {},
       "aggData": [],
       "aggError": "",
       "aggOverflow": false,
       "aggSchema": [],
       "aggSeriesLimitReached": false,
       "aggType": "",
       "arguments": {},
       "columnCustomDisplayInfos": {},
       "data": [
        [
         "dbfs:/databricks-datasets/definitive-guide/data/flight-data/csv/2010-summary.csv",
         "2010-summary.csv",
         7121,
         1522192049000
        ],
        [
         "dbfs:/databricks-datasets/definitive-guide/data/flight-data/csv/2011-summary.csv",
         "2011-summary.csv",
         7069,
         1522192049000
        ],
        [
         "dbfs:/databricks-datasets/definitive-guide/data/flight-data/csv/2012-summary.csv",
         "2012-summary.csv",
         6857,
         1522192049000
        ],
        [
         "dbfs:/databricks-datasets/definitive-guide/data/flight-data/csv/2013-summary.csv",
         "2013-summary.csv",
         7020,
         1522192050000
        ],
        [
         "dbfs:/databricks-datasets/definitive-guide/data/flight-data/csv/2014-summary.csv",
         "2014-summary.csv",
         6729,
         1522192050000
        ],
        [
         "dbfs:/databricks-datasets/definitive-guide/data/flight-data/csv/2015-summary.csv",
         "2015-summary.csv",
         7080,
         1522192050000
        ]
       ],
       "datasetInfos": [],
       "dbfsResultPath": null,
       "isJsonSchema": true,
       "metadata": {
        "isDbfsCommandResult": false
       },
       "overflow": false,
       "plotOptions": {
        "customPlotOptions": {},
        "displayType": "table",
        "pivotAggregation": null,
        "pivotColumns": null,
        "xColumns": null,
        "yColumns": null
       },
       "removedWidgets": [],
       "schema": [
        {
         "metadata": "{}",
         "name": "path",
         "type": "\"string\""
        },
        {
         "metadata": "{}",
         "name": "name",
         "type": "\"string\""
        },
        {
         "metadata": "{}",
         "name": "size",
         "type": "\"long\""
        },
        {
         "metadata": "{}",
         "name": "modificationTime",
         "type": "\"long\""
        }
       ],
       "type": "table"
      }
     },
     "output_type": "display_data"
    }
   ],
   "source": [
    "%fs ls \"dbfs:/databricks-datasets/definitive-guide/data/flight-data/csv/\""
   ]
  },
  {
   "cell_type": "code",
   "execution_count": 0,
   "metadata": {
    "application/vnd.databricks.v1+cell": {
     "cellMetadata": {
      "byteLimit": 2048000,
      "rowLimit": 10000
     },
     "inputWidgets": {},
     "nuid": "53f61fb6-51b3-4901-b738-787c3fd996da",
     "showTitle": false,
     "title": ""
    }
   },
   "outputs": [
    {
     "output_type": "execute_result",
     "data": {
      "text/plain": [
       "[FileInfo(path='dbfs:/databricks-datasets/definitive-guide/data/flight-data/csv/2010-summary.csv', name='2010-summary.csv', size=7121, modificationTime=1522192049000),\n",
       " FileInfo(path='dbfs:/databricks-datasets/definitive-guide/data/flight-data/csv/2011-summary.csv', name='2011-summary.csv', size=7069, modificationTime=1522192049000),\n",
       " FileInfo(path='dbfs:/databricks-datasets/definitive-guide/data/flight-data/csv/2012-summary.csv', name='2012-summary.csv', size=6857, modificationTime=1522192049000),\n",
       " FileInfo(path='dbfs:/databricks-datasets/definitive-guide/data/flight-data/csv/2013-summary.csv', name='2013-summary.csv', size=7020, modificationTime=1522192050000),\n",
       " FileInfo(path='dbfs:/databricks-datasets/definitive-guide/data/flight-data/csv/2014-summary.csv', name='2014-summary.csv', size=6729, modificationTime=1522192050000),\n",
       " FileInfo(path='dbfs:/databricks-datasets/definitive-guide/data/flight-data/csv/2015-summary.csv', name='2015-summary.csv', size=7080, modificationTime=1522192050000)]"
      ]
     },
     "execution_count": 2,
     "metadata": {},
     "output_type": "execute_result"
    }
   ],
   "source": [
    "#1b(i)\n",
    "# Veiwing directory contents as a table\n",
    "dbutils.fs.ls(\"dbfs:/databricks-datasets/definitive-guide/data/flight-data/csv/\")"
   ]
  },
  {
   "cell_type": "code",
   "execution_count": 0,
   "metadata": {
    "application/vnd.databricks.v1+cell": {
     "cellMetadata": {
      "byteLimit": 2048000,
      "rowLimit": 10000
     },
     "inputWidgets": {},
     "nuid": "135ef78e-7387-4a6e-b305-7af53d981aa2",
     "showTitle": false,
     "title": ""
    }
   },
   "outputs": [
    {
     "output_type": "display_data",
     "data": {
      "text/html": [
       "<style scoped>\n",
       "  .table-result-container {\n",
       "    max-height: 300px;\n",
       "    overflow: auto;\n",
       "  }\n",
       "  table, th, td {\n",
       "    border: 1px solid black;\n",
       "    border-collapse: collapse;\n",
       "  }\n",
       "  th, td {\n",
       "    padding: 5px;\n",
       "  }\n",
       "  th {\n",
       "    text-align: left;\n",
       "  }\n",
       "</style><div class='table-result-container'><table class='table-result'><thead style='background-color: white'><tr><th>path</th><th>name</th><th>size</th><th>modificationTime</th></tr></thead><tbody><tr><td>dbfs:/databricks-datasets/definitive-guide/data/flight-data/csv/2010-summary.csv</td><td>2010-summary.csv</td><td>7121</td><td>1522192049000</td></tr><tr><td>dbfs:/databricks-datasets/definitive-guide/data/flight-data/csv/2011-summary.csv</td><td>2011-summary.csv</td><td>7069</td><td>1522192049000</td></tr><tr><td>dbfs:/databricks-datasets/definitive-guide/data/flight-data/csv/2012-summary.csv</td><td>2012-summary.csv</td><td>6857</td><td>1522192049000</td></tr><tr><td>dbfs:/databricks-datasets/definitive-guide/data/flight-data/csv/2013-summary.csv</td><td>2013-summary.csv</td><td>7020</td><td>1522192050000</td></tr><tr><td>dbfs:/databricks-datasets/definitive-guide/data/flight-data/csv/2014-summary.csv</td><td>2014-summary.csv</td><td>6729</td><td>1522192050000</td></tr><tr><td>dbfs:/databricks-datasets/definitive-guide/data/flight-data/csv/2015-summary.csv</td><td>2015-summary.csv</td><td>7080</td><td>1522192050000</td></tr></tbody></table></div>"
      ]
     },
     "metadata": {
      "application/vnd.databricks.v1+output": {
       "addedWidgets": {},
       "aggData": [],
       "aggError": "",
       "aggOverflow": false,
       "aggSchema": [],
       "aggSeriesLimitReached": false,
       "aggType": "",
       "arguments": {},
       "columnCustomDisplayInfos": {},
       "data": [
        [
         "dbfs:/databricks-datasets/definitive-guide/data/flight-data/csv/2010-summary.csv",
         "2010-summary.csv",
         7121,
         1522192049000
        ],
        [
         "dbfs:/databricks-datasets/definitive-guide/data/flight-data/csv/2011-summary.csv",
         "2011-summary.csv",
         7069,
         1522192049000
        ],
        [
         "dbfs:/databricks-datasets/definitive-guide/data/flight-data/csv/2012-summary.csv",
         "2012-summary.csv",
         6857,
         1522192049000
        ],
        [
         "dbfs:/databricks-datasets/definitive-guide/data/flight-data/csv/2013-summary.csv",
         "2013-summary.csv",
         7020,
         1522192050000
        ],
        [
         "dbfs:/databricks-datasets/definitive-guide/data/flight-data/csv/2014-summary.csv",
         "2014-summary.csv",
         6729,
         1522192050000
        ],
        [
         "dbfs:/databricks-datasets/definitive-guide/data/flight-data/csv/2015-summary.csv",
         "2015-summary.csv",
         7080,
         1522192050000
        ]
       ],
       "datasetInfos": [],
       "dbfsResultPath": null,
       "isJsonSchema": true,
       "metadata": {},
       "overflow": false,
       "plotOptions": {
        "customPlotOptions": {},
        "displayType": "table",
        "pivotAggregation": null,
        "pivotColumns": null,
        "xColumns": null,
        "yColumns": null
       },
       "removedWidgets": [],
       "schema": [
        {
         "metadata": "{}",
         "name": "path",
         "type": "\"string\""
        },
        {
         "metadata": "{}",
         "name": "name",
         "type": "\"string\""
        },
        {
         "metadata": "{}",
         "name": "size",
         "type": "\"long\""
        },
        {
         "metadata": "{}",
         "name": "modificationTime",
         "type": "\"long\""
        }
       ],
       "type": "table"
      }
     },
     "output_type": "display_data"
    }
   ],
   "source": [
    "#1b(ii)\n",
    "display(dbutils.fs.ls(\"dbfs:/databricks-datasets/definitive-guide/data/flight-data/csv/\"))"
   ]
  },
  {
   "cell_type": "markdown",
   "metadata": {
    "application/vnd.databricks.v1+cell": {
     "cellMetadata": {},
     "inputWidgets": {},
     "nuid": "165782ab-30f1-419c-a4e1-e285e8db0fdd",
     "showTitle": false,
     "title": ""
    }
   },
   "source": [
    "## TASK 2: Read and view schema of two .csv files"
   ]
  },
  {
   "cell_type": "code",
   "execution_count": 0,
   "metadata": {
    "application/vnd.databricks.v1+cell": {
     "cellMetadata": {
      "byteLimit": 2048000,
      "rowLimit": 10000
     },
     "inputWidgets": {},
     "nuid": "af7f0994-2589-4721-ab38-11d224c3f5ca",
     "showTitle": false,
     "title": ""
    }
   },
   "outputs": [],
   "source": [
    "#2a\n",
    "\n",
    "# Reading in the 2015 data in and saving the file as flight2015DF\n",
    "flight2015DF = spark.read.csv(\"dbfs:/databricks-datasets/definitive-guide/data/flight-data/csv/2015-summary.csv\", header = True)"
   ]
  },
  {
   "cell_type": "code",
   "execution_count": 0,
   "metadata": {
    "application/vnd.databricks.v1+cell": {
     "cellMetadata": {
      "byteLimit": 2048000,
      "rowLimit": 10000
     },
     "inputWidgets": {},
     "nuid": "b23b8867-0981-4181-bd6b-3fe41fd0ba06",
     "showTitle": false,
     "title": ""
    }
   },
   "outputs": [
    {
     "output_type": "stream",
     "name": "stdout",
     "output_type": "stream",
     "text": [
      "root\n |-- DEST_COUNTRY_NAME: string (nullable = true)\n |-- ORIGIN_COUNTRY_NAME: string (nullable = true)\n |-- count: string (nullable = true)\n\n"
     ]
    }
   ],
   "source": [
    "#2b\n",
    "\n",
    "# Viewing the schema now using printSchema() command\n",
    "flight2015DF.printSchema()"
   ]
  },
  {
   "cell_type": "code",
   "execution_count": 0,
   "metadata": {
    "application/vnd.databricks.v1+cell": {
     "cellMetadata": {
      "byteLimit": 2048000,
      "rowLimit": 10000
     },
     "inputWidgets": {},
     "nuid": "c4a5753d-8cb1-4f9a-978e-8912b1dd721d",
     "showTitle": false,
     "title": ""
    }
   },
   "outputs": [],
   "source": [
    "#2c\n",
    "\n",
    "# Setting the inferSchema parameter to True and re-reading the 2015 data\n",
    "flight2015DF = spark.read.csv(\"dbfs:/databricks-datasets/definitive-guide/data/flight-data/csv/2015-summary.csv\", header = True, inferSchema = True)"
   ]
  },
  {
   "cell_type": "code",
   "execution_count": 0,
   "metadata": {
    "application/vnd.databricks.v1+cell": {
     "cellMetadata": {
      "byteLimit": 2048000,
      "rowLimit": 10000
     },
     "inputWidgets": {},
     "nuid": "f3892d40-deed-41fc-be1f-cba11d446130",
     "showTitle": false,
     "title": ""
    }
   },
   "outputs": [
    {
     "output_type": "stream",
     "name": "stdout",
     "output_type": "stream",
     "text": [
      "root\n |-- DEST_COUNTRY_NAME: string (nullable = true)\n |-- ORIGIN_COUNTRY_NAME: string (nullable = true)\n |-- count: integer (nullable = true)\n\n"
     ]
    }
   ],
   "source": [
    "#2d\n",
    "\n",
    "# Viewing the schema again to show that count is now integer\n",
    "flight2015DF.printSchema()"
   ]
  },
  {
   "cell_type": "code",
   "execution_count": 0,
   "metadata": {
    "application/vnd.databricks.v1+cell": {
     "cellMetadata": {
      "byteLimit": 2048000,
      "rowLimit": 10000
     },
     "inputWidgets": {},
     "nuid": "9db0b46b-cd38-4228-9b9e-b3026d827701",
     "showTitle": false,
     "title": ""
    }
   },
   "outputs": [],
   "source": [
    "#2e\n",
    "\n",
    "# Reading in the 2014 flight data file and saving it as flight2014DF\n",
    "flight2014DF = spark.read.csv(\"dbfs:/databricks-datasets/definitive-guide/data/flight-data/csv/2014-summary.csv\", header = True, inferSchema = True)"
   ]
  },
  {
   "cell_type": "markdown",
   "metadata": {
    "application/vnd.databricks.v1+cell": {
     "cellMetadata": {},
     "inputWidgets": {},
     "nuid": "8d01ccf7-851c-48b7-9320-a2a295f69134",
     "showTitle": false,
     "title": ""
    }
   },
   "source": [
    "## TASK 3: Combine two Dataframes and read in all .csv files"
   ]
  },
  {
   "cell_type": "code",
   "execution_count": 0,
   "metadata": {
    "application/vnd.databricks.v1+cell": {
     "cellMetadata": {
      "byteLimit": 2048000,
      "rowLimit": 10000
     },
     "inputWidgets": {},
     "nuid": "53f75efc-c3c0-4198-a6a4-9e07254171de",
     "showTitle": false,
     "title": ""
    }
   },
   "outputs": [],
   "source": [
    "#3a\n",
    "\n",
    "# Combining both the dataframes above into a single one using union() method of Spark DataFrame\n",
    "flight_dataDF = flight2015DF.union(flight2014DF)"
   ]
  },
  {
   "cell_type": "code",
   "execution_count": 0,
   "metadata": {
    "application/vnd.databricks.v1+cell": {
     "cellMetadata": {
      "byteLimit": 2048000,
      "rowLimit": 10000
     },
     "inputWidgets": {},
     "nuid": "e34c5ed1-0346-4791-a38a-848c0ece3669",
     "showTitle": false,
     "title": ""
    }
   },
   "outputs": [
    {
     "output_type": "execute_result",
     "data": {
      "text/plain": [
       "497"
      ]
     },
     "execution_count": 11,
     "metadata": {},
     "output_type": "execute_result"
    }
   ],
   "source": [
    "#3b\n",
    "\n",
    "# Using the count() method to check the new number of rows for the combined dataframe\n",
    "flight_dataDF.count()"
   ]
  },
  {
   "cell_type": "code",
   "execution_count": 0,
   "metadata": {
    "application/vnd.databricks.v1+cell": {
     "cellMetadata": {
      "byteLimit": 2048000,
      "rowLimit": 10000
     },
     "inputWidgets": {},
     "nuid": "be54137f-3f0c-4190-be5b-7ded8871abc2",
     "showTitle": false,
     "title": ""
    }
   },
   "outputs": [],
   "source": [
    "#3c\n",
    "\n",
    "# Reading all the flight data files to a single datframe named flightsAllDF\n",
    "flightsAllDF = spark.read.csv(\"dbfs:/databricks-datasets/definitive-guide/data/flight-data/csv/*.csv\", header = True, inferSchema = True)"
   ]
  },
  {
   "cell_type": "markdown",
   "metadata": {
    "application/vnd.databricks.v1+cell": {
     "cellMetadata": {},
     "inputWidgets": {},
     "nuid": "035c9c90-1203-4248-ac4a-e3bd06cb48c6",
     "showTitle": false,
     "title": ""
    }
   },
   "source": [
    "## TASK 4. Read in all .csv files using a custom schema"
   ]
  },
  {
   "cell_type": "code",
   "execution_count": 0,
   "metadata": {
    "application/vnd.databricks.v1+cell": {
     "cellMetadata": {
      "byteLimit": 2048000,
      "rowLimit": 10000
     },
     "inputWidgets": {},
     "nuid": "823c1331-de60-44a3-9842-0fc793d8f897",
     "showTitle": false,
     "title": ""
    }
   },
   "outputs": [],
   "source": [
    "#4a\n",
    "\n",
    "# Creating a custom Schema named myschema\n",
    "myschema = StructType( [\n",
    "    StructField(\"dest\", StringType()),\n",
    "    StructField(\"origin\", StringType()),\n",
    "    StructField(\"count\", LongType()) ] )\n",
    "\n",
    "# Saving the file again using schema = myschema instead of inferring schema\n",
    "flightsAllDF = spark.read.csv(\"dbfs:/databricks-datasets/definitive-guide/data/flight-data/csv/*.csv\", header = True, schema = myschema)"
   ]
  },
  {
   "cell_type": "code",
   "execution_count": 0,
   "metadata": {
    "application/vnd.databricks.v1+cell": {
     "cellMetadata": {
      "byteLimit": 2048000,
      "rowLimit": 10000
     },
     "inputWidgets": {},
     "nuid": "287cb76b-c492-43b1-a4df-c409c0a4a9d3",
     "showTitle": false,
     "title": ""
    }
   },
   "outputs": [
    {
     "output_type": "stream",
     "name": "stdout",
     "output_type": "stream",
     "text": [
      "root\n |-- dest: string (nullable = true)\n |-- origin: string (nullable = true)\n |-- count: long (nullable = true)\n\n"
     ]
    }
   ],
   "source": [
    "#4b\n",
    "\n",
    "# Printing the schema for the updated flightsAllDF\n",
    "flightsAllDF.printSchema()"
   ]
  },
  {
   "cell_type": "code",
   "execution_count": 0,
   "metadata": {
    "application/vnd.databricks.v1+cell": {
     "cellMetadata": {
      "byteLimit": 2048000,
      "rowLimit": 10000
     },
     "inputWidgets": {},
     "nuid": "a62ba857-27e0-4e1d-ba0e-4d383bddce77",
     "showTitle": false,
     "title": ""
    }
   },
   "outputs": [
    {
     "output_type": "stream",
     "name": "stdout",
     "output_type": "stream",
     "text": [
      "count: 1502\ndistinct count: 1328\n"
     ]
    }
   ],
   "source": [
    "#4c\n",
    "\n",
    "# Using count() and .distinct().count() to get the count and distinct count of rows for flightsAllDF dataframe\n",
    "print(\"count:\", flightsAllDF.count())\n",
    "\n",
    "print(\"distinct count:\", flightsAllDF.distinct().count())\n",
    "\n",
    "# The difference is due to duplicate rows in the files as we don't have a primary key identifier for these files it is possible that some rows have the same destination and origin airport along with the same number of counts. To mitigate this issue we can add a column for primary key identifier in all these files"
   ]
  },
  {
   "cell_type": "markdown",
   "metadata": {
    "application/vnd.databricks.v1+cell": {
     "cellMetadata": {},
     "inputWidgets": {},
     "nuid": "10e21dd9-a32e-4bae-a351-a64b06a7ac56",
     "showTitle": false,
     "title": ""
    }
   },
   "source": [
    "## TASK 5. View the DF"
   ]
  },
  {
   "cell_type": "code",
   "execution_count": 0,
   "metadata": {
    "application/vnd.databricks.v1+cell": {
     "cellMetadata": {
      "byteLimit": 2048000,
      "rowLimit": 10000
     },
     "inputWidgets": {},
     "nuid": "d2d17c1f-f5b4-4f70-9ce3-1da4cb8162d5",
     "showTitle": false,
     "title": ""
    }
   },
   "outputs": [
    {
     "output_type": "execute_result",
     "data": {
      "text/plain": [
       "[Row(dest='United States', origin='Romania', count=1),\n",
       " Row(dest='United States', origin='Ireland', count=264),\n",
       " Row(dest='United States', origin='India', count=69),\n",
       " Row(dest='Egypt', origin='United States', count=24),\n",
       " Row(dest='Equatorial Guinea', origin='United States', count=1),\n",
       " Row(dest='United States', origin='Singapore', count=25),\n",
       " Row(dest='United States', origin='Grenada', count=54),\n",
       " Row(dest='Costa Rica', origin='United States', count=477),\n",
       " Row(dest='Senegal', origin='United States', count=29),\n",
       " Row(dest='United States', origin='Marshall Islands', count=44),\n",
       " Row(dest='Guyana', origin='United States', count=17),\n",
       " Row(dest='United States', origin='Sint Maarten', count=53),\n",
       " Row(dest='Malta', origin='United States', count=1),\n",
       " Row(dest='Bolivia', origin='United States', count=46),\n",
       " Row(dest='Anguilla', origin='United States', count=21),\n",
       " Row(dest='Turks and Caicos Islands', origin='United States', count=136),\n",
       " Row(dest='United States', origin='Afghanistan', count=2),\n",
       " Row(dest='Saint Vincent and the Grenadines', origin='United States', count=1),\n",
       " Row(dest='Italy', origin='United States', count=390),\n",
       " Row(dest='United States', origin='Russia', count=156),\n",
       " Row(dest='United States', origin='Federated States of Micronesia', count=48),\n",
       " Row(dest='Pakistan', origin='United States', count=9),\n",
       " Row(dest='United States', origin='Netherlands', count=570),\n",
       " Row(dest='Iceland', origin='United States', count=118),\n",
       " Row(dest='Marshall Islands', origin='United States', count=77),\n",
       " Row(dest='Luxembourg', origin='United States', count=91),\n",
       " Row(dest='Honduras', origin='United States', count=391),\n",
       " Row(dest='The Bahamas', origin='United States', count=903),\n",
       " Row(dest='El Salvador', origin='United States', count=519),\n",
       " Row(dest='United States', origin='Senegal', count=46),\n",
       " Row(dest='Samoa', origin='United States', count=28),\n",
       " Row(dest='United States', origin='Angola', count=18),\n",
       " Row(dest='Kazakhstan', origin='United States', count=3),\n",
       " Row(dest='Switzerland', origin='United States', count=315),\n",
       " Row(dest='United States', origin='Anguilla', count=20),\n",
       " Row(dest='Sint Maarten', origin='United States', count=61),\n",
       " Row(dest='Hong Kong', origin='United States', count=252),\n",
       " Row(dest='Trinidad and Tobago', origin='United States', count=187),\n",
       " Row(dest='Latvia', origin='United States', count=12),\n",
       " Row(dest='United States', origin='Ecuador', count=345),\n",
       " Row(dest='Slovakia', origin='United States', count=1),\n",
       " Row(dest='Suriname', origin='United States', count=12),\n",
       " Row(dest='Mexico', origin='United States', count=6200),\n",
       " Row(dest='United States', origin='Cyprus', count=1),\n",
       " Row(dest='Ecuador', origin='United States', count=272),\n",
       " Row(dest='United States', origin='Bosnia and Herzegovina', count=1),\n",
       " Row(dest='United States', origin='Portugal', count=104),\n",
       " Row(dest='United States', origin='Costa Rica', count=501),\n",
       " Row(dest='United States', origin='Guatemala', count=333),\n",
       " Row(dest='United States', origin='Suriname', count=13),\n",
       " Row(dest='Colombia', origin='United States', count=785),\n",
       " Row(dest='United States', origin='Cape Verde', count=18),\n",
       " Row(dest='United States', origin='Jamaica', count=757),\n",
       " Row(dest='United States', origin='Malaysia', count=3),\n",
       " Row(dest='Norway', origin='United States', count=29),\n",
       " Row(dest='United States', origin='Morocco', count=16),\n",
       " Row(dest='Thailand', origin='United States', count=16),\n",
       " Row(dest='Venezuela', origin='United States', count=377),\n",
       " Row(dest='United States', origin='Palau', count=30),\n",
       " Row(dest='United States', origin='Samoa', count=28),\n",
       " Row(dest='United States', origin='Algeria', count=1),\n",
       " Row(dest='United States', origin='Venezuela', count=341),\n",
       " Row(dest='Panama', origin='United States', count=355),\n",
       " Row(dest='United States', origin='Finland', count=20),\n",
       " Row(dest='United States', origin='Chile', count=176),\n",
       " Row(dest='Morocco', origin='United States', count=16),\n",
       " Row(dest='United States', origin='Greece', count=61),\n",
       " Row(dest='Antigua and Barbuda', origin='United States', count=123),\n",
       " Row(dest='Azerbaijan', origin='United States', count=1),\n",
       " Row(dest='United States', origin='The Bahamas', count=959),\n",
       " Row(dest='New Zealand', origin='United States', count=86),\n",
       " Row(dest='Liberia', origin='United States', count=1),\n",
       " Row(dest='United States', origin='Hong Kong', count=293),\n",
       " Row(dest='Hungary', origin='United States', count=14),\n",
       " Row(dest='United States', origin='China', count=505),\n",
       " Row(dest='United States', origin='Vietnam', count=1),\n",
       " Row(dest='Sweden', origin='United States', count=65),\n",
       " Row(dest='United States', origin='Kuwait', count=25),\n",
       " Row(dest='United States', origin='Dominican Republic', count=1150),\n",
       " Row(dest='United States', origin='Egypt', count=25),\n",
       " Row(dest='Israel', origin='United States', count=117),\n",
       " Row(dest='United States', origin='United States', count=348113),\n",
       " Row(dest='United States', origin='Luxembourg', count=90),\n",
       " Row(dest='Ethiopia', origin='United States', count=12),\n",
       " Row(dest='United States', origin='Poland', count=61),\n",
       " Row(dest='Martinique', origin='United States', count=23),\n",
       " Row(dest='Saint Barthelemy', origin='United States', count=28),\n",
       " Row(dest='United States', origin='Saint Barthelemy', count=29),\n",
       " Row(dest='United States', origin='Turkey', count=87),\n",
       " Row(dest='Barbados', origin='United States', count=130),\n",
       " Row(dest='United States', origin='Estonia', count=1),\n",
       " Row(dest='United States', origin='Azerbaijan', count=1),\n",
       " Row(dest='Germany', origin='United States', count=1392),\n",
       " Row(dest='Kyrgyzstan', origin='United States', count=2),\n",
       " Row(dest='United States', origin='South Korea', count=621),\n",
       " Row(dest='United States', origin='El Salvador', count=464),\n",
       " Row(dest='Ireland', origin='United States', count=231),\n",
       " Row(dest='United States', origin='Hungary', count=15),\n",
       " Row(dest='United States', origin='Serbia', count=1),\n",
       " Row(dest='Malaysia', origin='United States', count=1),\n",
       " Row(dest='United States', origin='Panama', count=363),\n",
       " Row(dest='United States', origin='Ethiopia', count=12),\n",
       " Row(dest='United States', origin='Aruba', count=349),\n",
       " Row(dest='United States', origin='Thailand', count=13),\n",
       " Row(dest='United States', origin='Netherlands Antilles', count=289),\n",
       " Row(dest='United States', origin='Turks and Caicos Islands', count=147),\n",
       " Row(dest='Cyprus', origin='United States', count=2),\n",
       " Row(dest='United States', origin='Pakistan', count=15),\n",
       " Row(dest='United States', origin='Honduras', count=393),\n",
       " Row(dest='Qatar', origin='United States', count=41),\n",
       " Row(dest='Fiji', origin='United States', count=53),\n",
       " Row(dest='Saint Kitts and Nevis', origin='United States', count=113),\n",
       " Row(dest='Taiwan', origin='United States', count=275),\n",
       " Row(dest='Haiti', origin='United States', count=238),\n",
       " Row(dest='Kuwait', origin='United States', count=26),\n",
       " Row(dest='Canada', origin='United States', count=8271),\n",
       " Row(dest='Federated States of Micronesia', origin='United States', count=46),\n",
       " Row(dest='United States', origin='Liberia', count=1),\n",
       " Row(dest='Jamaica', origin='United States', count=733),\n",
       " Row(dest='United States', origin='Malta', count=2),\n",
       " Row(dest='Dominican Republic', origin='United States', count=1109),\n",
       " Row(dest='Japan', origin='United States', count=1383),\n",
       " Row(dest='United States', origin='Saint Vincent and the Grenadines', count=16),\n",
       " Row(dest='United States', origin='Guadeloupe', count=33),\n",
       " Row(dest='Finland', origin='United States', count=24),\n",
       " Row(dest='United States', origin='Ukraine', count=17),\n",
       " Row(dest='United States', origin='France', count=776),\n",
       " Row(dest='United States', origin='Norway', count=36),\n",
       " Row(dest='Aruba', origin='United States', count=359),\n",
       " Row(dest='French Guiana', origin='United States', count=4),\n",
       " Row(dest='United States', origin='Kiribati', count=18),\n",
       " Row(dest='India', origin='United States', count=66),\n",
       " Row(dest='British Virgin Islands', origin='United States', count=49),\n",
       " Row(dest='United States', origin='Germany', count=1406),\n",
       " Row(dest='Brazil', origin='United States', count=995),\n",
       " Row(dest='United States', origin='New Zealand', count=71),\n",
       " Row(dest='French Polynesia', origin='United States', count=38),\n",
       " Row(dest='United Arab Emirates', origin='United States', count=165),\n",
       " Row(dest='Singapore', origin='United States', count=25),\n",
       " Row(dest='United States', origin='Mexico', count=6220),\n",
       " Row(dest='Netherlands', origin='United States', count=586),\n",
       " Row(dest='United States', origin='Sweden', count=73),\n",
       " Row(dest='United States', origin='Gabon', count=1),\n",
       " Row(dest='United States', origin='Martinique', count=20),\n",
       " Row(dest='United States', origin='United Arab Emirates', count=156),\n",
       " Row(dest='United States', origin='Bulgaria', count=2),\n",
       " Row(dest='China', origin='United States', count=448),\n",
       " Row(dest='Denmark', origin='United States', count=98),\n",
       " Row(dest='United States', origin='Philippines', count=116),\n",
       " Row(dest='United States', origin='Nicaragua', count=181),\n",
       " Row(dest='United States', origin='Belgium', count=355),\n",
       " Row(dest='Peru', origin='United States', count=212),\n",
       " Row(dest='Argentina', origin='United States', count=184),\n",
       " Row(dest='Cayman Islands', origin='United States', count=247),\n",
       " Row(dest='South Africa', origin='United States', count=25),\n",
       " Row(dest='United States', origin='Iceland', count=129),\n",
       " Row(dest='United States', origin='Argentina', count=159),\n",
       " Row(dest='Spain', origin='United States', count=422),\n",
       " Row(dest='Netherlands Antilles', origin='United States', count=286),\n",
       " Row(dest='Bermuda', origin='United States', count=183),\n",
       " Row(dest='United States', origin='Austria', count=34),\n",
       " Row(dest='United States', origin='Nigeria', count=18),\n",
       " Row(dest='United States', origin='Bonaire, Sint Eustatius, and Saba', count=16),\n",
       " Row(dest='Kiribati', origin='United States', count=17),\n",
       " Row(dest='Saudi Arabia', origin='United States', count=42),\n",
       " Row(dest='Czech Republic', origin='United States', count=21),\n",
       " Row(dest='Belgium', origin='United States', count=408),\n",
       " Row(dest='United States', origin='Israel', count=122),\n",
       " Row(dest='United States', origin='Bahrain', count=1),\n",
       " Row(dest='United States', origin='Saint Lucia', count=121),\n",
       " Row(dest='Afghanistan', origin='United States', count=11),\n",
       " Row(dest='United States', origin='British Virgin Islands', count=47),\n",
       " Row(dest='Curacao', origin='United States', count=20),\n",
       " Row(dest='Georgia', origin='United States', count=2),\n",
       " Row(dest='United States', origin='Guyana', count=20),\n",
       " Row(dest='United States', origin='Denmark', count=107),\n",
       " Row(dest='Philippines', origin='United States', count=132),\n",
       " Row(dest='Grenada', origin='United States', count=65),\n",
       " Row(dest='Cape Verde', origin='United States', count=18),\n",
       " Row(dest='Ukraine', origin='United States', count=19),\n",
       " Row(dest='United States', origin='Papua New Guinea', count=1),\n",
       " Row(dest='United States', origin='Saudi Arabia', count=54),\n",
       " Row(dest='Russia', origin='United States', count=152),\n",
       " Row(dest='Guatemala', origin='United States', count=386),\n",
       " Row(dest='Saint Lucia', origin='United States', count=116),\n",
       " Row(dest='Paraguay', origin='United States', count=90),\n",
       " Row(dest='United States', origin='Curacao', count=14),\n",
       " Row(dest='United States', origin='Taiwan', count=252),\n",
       " Row(dest='United States', origin='South Africa', count=15),\n",
       " Row(dest='Turkey', origin='United States', count=75),\n",
       " Row(dest='United Kingdom', origin='United States', count=1629),\n",
       " Row(dest='United States', origin='Greenland', count=2),\n",
       " Row(dest='United States', origin='Spain', count=442),\n",
       " Row(dest='Cuba', origin='United States', count=243),\n",
       " Row(dest='United States', origin='Italy', count=433),\n",
       " Row(dest='United States', origin='Switzerland', count=334),\n",
       " Row(dest='Dominica', origin='United States', count=28),\n",
       " Row(dest='United States', origin='Japan', count=1307),\n",
       " Row(dest='Portugal', origin='United States', count=102),\n",
       " Row(dest='United States', origin='Brazil', count=578),\n",
       " Row(dest='Bahrain', origin='United States', count=30),\n",
       " Row(dest='United States', origin='Peru', count=284),\n",
       " Row(dest='Vietnam', origin='United States', count=1),\n",
       " Row(dest='United States', origin='United Kingdom', count=1503),\n",
       " Row(dest='United States', origin='Belize', count=118),\n",
       " Row(dest='Belize', origin='United States', count=121),\n",
       " Row(dest='United States', origin='Ghana', count=28),\n",
       " Row(dest='United States', origin='Indonesia', count=1),\n",
       " Row(dest='United States', origin='Fiji', count=51),\n",
       " Row(dest='United States', origin='Canada', count=8305),\n",
       " Row(dest='United States', origin='French Polynesia', count=38),\n",
       " Row(dest='United States', origin='Antigua and Barbuda', count=121),\n",
       " Row(dest='United States', origin='Burkina Faso', count=1),\n",
       " Row(dest='Nicaragua', origin='United States', count=178),\n",
       " Row(dest='United States', origin='Latvia', count=13),\n",
       " Row(dest='United States', origin='Dominica', count=32),\n",
       " Row(dest='United States', origin='Czech Republic', count=22),\n",
       " Row(dest='United States', origin='Australia', count=216),\n",
       " Row(dest='Austria', origin='United States', count=36),\n",
       " Row(dest='United States', origin='Cook Islands', count=12),\n",
       " Row(dest='Jordan', origin='United States', count=50),\n",
       " Row(dest='Palau', origin='United States', count=31),\n",
       " Row(dest='Uganda', origin='United States', count=2),\n",
       " Row(dest='United States', origin='Cameroon', count=1),\n",
       " Row(dest='South Korea', origin='United States', count=683),\n",
       " Row(dest='Angola', origin='United States', count=14),\n",
       " Row(dest='Ghana', origin='United States', count=27),\n",
       " Row(dest='Guadeloupe', origin='United States', count=40),\n",
       " Row(dest='France', origin='United States', count=774),\n",
       " Row(dest='United States', origin='Kyrgyzstan', count=12),\n",
       " Row(dest='Poland', origin='United States', count=62),\n",
       " Row(dest='Nigeria', origin='United States', count=16),\n",
       " Row(dest='United States', origin='Uruguay', count=24),\n",
       " Row(dest='Greenland', origin='United States', count=2),\n",
       " Row(dest='Chile', origin='United States', count=166),\n",
       " Row(dest='United States', origin='Bermuda', count=180),\n",
       " Row(dest='United States', origin='Cuba', count=235),\n",
       " Row(dest='United States', origin='Colombia', count=832),\n",
       " Row(dest='United States', origin='Qatar', count=40),\n",
       " Row(dest='United States', origin='Barbados', count=119),\n",
       " Row(dest='Australia', origin='United States', count=290),\n",
       " Row(dest='United States', origin='Jordan', count=51),\n",
       " Row(dest='United States', origin='Cayman Islands', count=251),\n",
       " Row(dest='United States', origin='Trinidad and Tobago', count=200),\n",
       " Row(dest='United States', origin='Bolivia', count=39),\n",
       " Row(dest='United States', origin='Slovakia', count=1),\n",
       " Row(dest='Uruguay', origin='United States', count=54),\n",
       " Row(dest='Cook Islands', origin='United States', count=13),\n",
       " Row(dest='United States', origin='Saint Kitts and Nevis', count=127),\n",
       " Row(dest='Bulgaria', origin='United States', count=1),\n",
       " Row(dest='United States', origin='French Guiana', count=1),\n",
       " Row(dest='United States', origin='Haiti', count=226),\n",
       " Row(dest='United States', origin='Uganda', count=1),\n",
       " Row(dest='Bonaire, Sint Eustatius, and Saba', origin='United States', count=16),\n",
       " Row(dest='Greece', origin='United States', count=50),\n",
       " Row(dest='United States', origin='Romania', count=15),\n",
       " Row(dest='United States', origin='Croatia', count=1),\n",
       " Row(dest='United States', origin='Ireland', count=344),\n",
       " Row(dest='Egypt', origin='United States', count=15),\n",
       " Row(dest='United States', origin='India', count=62),\n",
       " Row(dest='United States', origin='Singapore', count=1),\n",
       " Row(dest='United States', origin='Grenada', count=62),\n",
       " Row(dest='Costa Rica', origin='United States', count=588),\n",
       " Row(dest='Senegal', origin='United States', count=40),\n",
       " Row(dest='Moldova', origin='United States', count=1),\n",
       " Row(dest='United States', origin='Sint Maarten', count=325),\n",
       " Row(dest='United States', origin='Marshall Islands', count=39),\n",
       " Row(dest='Guyana', origin='United States', count=64),\n",
       " Row(dest='Malta', origin='United States', count=1),\n",
       " Row(dest='Anguilla', origin='United States', count=41),\n",
       " Row(dest='Bolivia', origin='United States', count=30),\n",
       " Row(dest='United States', origin='Paraguay', count=6),\n",
       " Row(dest='Algeria', origin='United States', count=4),\n",
       " Row(dest='Turks and Caicos Islands', origin='United States', count=230),\n",
       " Row(dest='United States', origin='Gibraltar', count=1),\n",
       " Row(dest='Saint Vincent and the Grenadines', origin='United States', count=1),\n",
       " Row(dest='Italy', origin='United States', count=382),\n",
       " Row(dest='United States', origin='Federated States of Micronesia', count=69),\n",
       " Row(dest='United States', origin='Russia', count=161),\n",
       " Row(dest='Pakistan', origin='United States', count=12),\n",
       " Row(dest='United States', origin='Netherlands', count=660),\n",
       " Row(dest='Iceland', origin='United States', count=181),\n",
       " Row(dest='Marshall Islands', origin='United States', count=42),\n",
       " Row(dest='Luxembourg', origin='United States', count=155),\n",
       " Row(dest='Honduras', origin='United States', count=362),\n",
       " Row(dest='The Bahamas', origin='United States', count=955),\n",
       " Row(dest='United States', origin='Senegal', count=42),\n",
       " Row(dest='El Salvador', origin='United States', count=561),\n",
       " Row(dest='Samoa', origin='United States', count=25),\n",
       " Row(dest='United States', origin='Angola', count=13),\n",
       " Row(dest='Switzerland', origin='United States', count=294),\n",
       " Row(dest='United States', origin='Anguilla', count=38),\n",
       " Row(dest='Sint Maarten', origin='United States', count=325),\n",
       " Row(dest='Hong Kong', origin='United States', count=332),\n",
       " Row(dest='Trinidad and Tobago', origin='United States', count=211),\n",
       " Row(dest='Latvia', origin='United States', count=19),\n",
       " Row(dest='United States', origin='Ecuador', count=300),\n",
       " Row(dest='Suriname', origin='United States', count=1),\n",
       " Row(dest='Mexico', origin='United States', count=7140),\n",
       " Row(dest='United States', origin='Cyprus', count=1),\n",
       " Row(dest='Ecuador', origin='United States', count=268),\n",
       " Row(dest='United States', origin='Portugal', count=134),\n",
       " Row(dest='United States', origin='Costa Rica', count=608),\n",
       " Row(dest='United States', origin='Guatemala', count=318),\n",
       " Row(dest='United States', origin='Suriname', count=34),\n",
       " Row(dest='Colombia', origin='United States', count=873),\n",
       " Row(dest='United States', origin='Cape Verde', count=14),\n",
       " Row(dest='United States', origin='Jamaica', count=712),\n",
       " Row(dest='Norway', origin='United States', count=121),\n",
       " Row(dest='United States', origin='Malaysia', count=3),\n",
       " Row(dest='United States', origin='Morocco', count=19),\n",
       " Row(dest='Thailand', origin='United States', count=3),\n",
       " Row(dest='United States', origin='Samoa', count=25),\n",
       " Row(dest='Venezuela', origin='United States', count=290),\n",
       " Row(dest='United States', origin='Palau', count=31),\n",
       " Row(dest='United States', origin='Venezuela', count=246),\n",
       " Row(dest='Panama', origin='United States', count=510),\n",
       " Row(dest='Antigua and Barbuda', origin='United States', count=126),\n",
       " Row(dest='United States', origin='Chile', count=185),\n",
       " Row(dest='Morocco', origin='United States', count=15),\n",
       " Row(dest='United States', origin='Finland', count=28),\n",
       " Row(dest='Azerbaijan', origin='United States', count=21),\n",
       " Row(dest='United States', origin='Greece', count=23),\n",
       " Row(dest='United States', origin='The Bahamas', count=986),\n",
       " Row(dest='New Zealand', origin='United States', count=111),\n",
       " Row(dest='Liberia', origin='United States', count=2),\n",
       " Row(dest='United States', origin='Hong Kong', count=414),\n",
       " Row(dest='Hungary', origin='United States', count=2),\n",
       " Row(dest='United States', origin='China', count=920),\n",
       " Row(dest='United States', origin='Vietnam', count=2),\n",
       " Row(dest='Burkina Faso', origin='United States', count=1),\n",
       " Row(dest='Sweden', origin='United States', count=118),\n",
       " Row(dest='United States', origin='Kuwait', count=28),\n",
       " Row(dest='United States', origin='Dominican Republic', count=1420),\n",
       " Row(dest='United States', origin='Egypt', count=12),\n",
       " Row(dest='Israel', origin='United States', count=134),\n",
       " Row(dest='United States', origin='United States', count=370002),\n",
       " Row(dest='Ethiopia', origin='United States', count=13),\n",
       " Row(dest='United States', origin='Luxembourg', count=134),\n",
       " Row(dest='United States', origin='Poland', count=33),\n",
       " Row(dest='Martinique', origin='United States', count=44),\n",
       " Row(dest='United States', origin='Saint Barthelemy', count=41),\n",
       " Row(dest='Saint Barthelemy', origin='United States', count=39),\n",
       " Row(dest='Barbados', origin='United States', count=154),\n",
       " Row(dest='United States', origin='Turkey', count=129),\n",
       " Row(dest='Djibouti', origin='United States', count=1),\n",
       " Row(dest='United States', origin='Azerbaijan', count=21),\n",
       " Row(dest='United States', origin='Estonia', count=1),\n",
       " Row(dest='Germany', origin='United States', count=1468),\n",
       " Row(dest='United States', origin='South Korea', count=827),\n",
       " Row(dest='United States', origin='El Salvador', count=508),\n",
       " Row(dest='Ireland', origin='United States', count=335),\n",
       " Row(dest='United States', origin='Hungary', count=3),\n",
       " Row(dest='Zambia', origin='United States', count=1),\n",
       " Row(dest='Malaysia', origin='United States', count=2),\n",
       " Row(dest='United States', origin='Ethiopia', count=12),\n",
       " Row(dest='United States', origin='Panama', count=465),\n",
       " Row(dest='United States', origin='Aruba', count=342),\n",
       " Row(dest='United States', origin='Thailand', count=4),\n",
       " Row(dest='United States', origin='Turks and Caicos Islands', count=236),\n",
       " Row(dest='Croatia', origin='United States', count=2),\n",
       " Row(dest='United States', origin='Pakistan', count=12),\n",
       " Row(dest='Cyprus', origin='United States', count=1),\n",
       " Row(dest='United States', origin='Honduras', count=407),\n",
       " Row(dest='Fiji', origin='United States', count=24),\n",
       " Row(dest='Qatar', origin='United States', count=108),\n",
       " Row(dest='Saint Kitts and Nevis', origin='United States', count=139),\n",
       " Row(dest='Kuwait', origin='United States', count=32),\n",
       " Row(dest='Taiwan', origin='United States', count=266),\n",
       " Row(dest='Haiti', origin='United States', count=226),\n",
       " Row(dest='Canada', origin='United States', count=8399),\n",
       " Row(dest='Federated States of Micronesia', origin='United States', count=69),\n",
       " Row(dest='United States', origin='Liberia', count=2),\n",
       " Row(dest='Jamaica', origin='United States', count=666),\n",
       " Row(dest='United States', origin='Malta', count=2),\n",
       " Row(dest='Dominican Republic', origin='United States', count=1353),\n",
       " Row(dest='Japan', origin='United States', count=1548),\n",
       " Row(dest='United States', origin='Lithuania', count=1),\n",
       " Row(dest='Finland', origin='United States', count=26),\n",
       " Row(dest='United States', origin='Guadeloupe', count=59),\n",
       " Row(dest='United States', origin='Ukraine', count=13),\n",
       " Row(dest='United States', origin='France', count=952),\n",
       " Row(dest='United States', origin='Norway', count=115),\n",
       " Row(dest='Aruba', origin='United States', count=346),\n",
       " Row(dest='French Guiana', origin='United States', count=5),\n",
       " Row(dest='United States', origin='Kiribati', count=35),\n",
       " Row(dest='India', origin='United States', count=61),\n",
       " Row(dest='British Virgin Islands', origin='United States', count=107),\n",
       " Row(dest='Brazil', origin='United States', count=853),\n",
       " Row(dest='United States', origin='Germany', count=1336),\n",
       " Row(dest='United States', origin='New Zealand', count=74),\n",
       " Row(dest='French Polynesia', origin='United States', count=43),\n",
       " Row(dest='United Arab Emirates', origin='United States', count=320),\n",
       " Row(dest='Singapore', origin='United States', count=3),\n",
       " Row(dest='United States', origin='Mexico', count=7187),\n",
       " Row(dest='United States', origin='Sweden', count=119),\n",
       " Row(dest='Netherlands', origin='United States', count=776),\n",
       " Row(dest='United States', origin='Martinique', count=43),\n",
       " Row(dest='United States', origin='United Arab Emirates', count=313),\n",
       " Row(dest='United States', origin='Bulgaria', count=1),\n",
       " Row(dest='Denmark', origin='United States', count=153),\n",
       " Row(dest='China', origin='United States', count=772),\n",
       " Row(dest='United States', origin='Nicaragua', count=201),\n",
       " Row(dest='United States', origin='Philippines', count=126),\n",
       " Row(dest='United States', origin='Georgia', count=1),\n",
       " Row(dest='United States', origin='Belgium', count=228),\n",
       " Row(dest='Cayman Islands', origin='United States', count=314),\n",
       " Row(dest='Argentina', origin='United States', count=180),\n",
       " Row(dest='Peru', origin='United States', count=279),\n",
       " Row(dest='South Africa', origin='United States', count=36),\n",
       " Row(dest='United States', origin='Iceland', count=202),\n",
       " Row(dest='United States', origin='Argentina', count=141),\n",
       " Row(dest='Spain', origin='United States', count=420),\n",
       " Row(dest='Bermuda', origin='United States', count=183),\n",
       " Row(dest='United States', origin='Nigeria', count=50),\n",
       " Row(dest='United States', origin='Austria', count=63),\n",
       " Row(dest='United States', origin='Bonaire, Sint Eustatius, and Saba', count=59),\n",
       " Row(dest='Kiribati', origin='United States', count=26),\n",
       " Row(dest='Saudi Arabia', origin='United States', count=83),\n",
       " Row(dest='Czech Republic', origin='United States', count=13),\n",
       " Row(dest='United States', origin='Israel', count=127),\n",
       " Row(dest='Belgium', origin='United States', count=259),\n",
       " Row(dest='United States', origin='Saint Lucia', count=136),\n",
       " Row(dest='United States', origin='Bahrain', count=1),\n",
       " Row(dest='United States', origin='British Virgin Islands', count=80),\n",
       " Row(dest='Curacao', origin='United States', count=90),\n",
       " Row(dest='Georgia', origin='United States', count=2),\n",
       " Row(dest='United States', origin='Denmark', count=152),\n",
       " Row(dest='United States', origin='Guyana', count=63),\n",
       " Row(dest='Philippines', origin='United States', count=134),\n",
       " Row(dest='Grenada', origin='United States', count=53),\n",
       " Row(dest='Cape Verde', origin='United States', count=20),\n",
       " Row(dest=\"Cote d'Ivoire\", origin='United States', count=1),\n",
       " Row(dest='Ukraine', origin='United States', count=14),\n",
       " Row(dest='United States', origin='Papua New Guinea', count=1),\n",
       " Row(dest='Russia', origin='United States', count=176),\n",
       " Row(dest='United States', origin='Saudi Arabia', count=70),\n",
       " Row(dest='Guatemala', origin='United States', count=397),\n",
       " Row(dest='Saint Lucia', origin='United States', count=123),\n",
       " Row(dest='Paraguay', origin='United States', count=60),\n",
       " Row(dest='United States', origin='Curacao', count=83),\n",
       " Row(dest='Kosovo', origin='United States', count=1),\n",
       " Row(dest='United States', origin='Taiwan', count=235),\n",
       " Row(dest='Tunisia', origin='United States', count=3),\n",
       " Row(dest='United States', origin='South Africa', count=40),\n",
       " Row(dest='Niger', origin='United States', count=2),\n",
       " Row(dest='Turkey', origin='United States', count=138),\n",
       " Row(dest='United Kingdom', origin='United States', count=2025),\n",
       " Row(dest='Romania', origin='United States', count=14),\n",
       " Row(dest='United States', origin='Greenland', count=4),\n",
       " Row(dest='Papua New Guinea', origin='United States', count=3),\n",
       " Row(dest='United States', origin='Spain', count=442),\n",
       " Row(dest='Iraq', origin='United States', count=1),\n",
       " Row(dest='United States', origin='Italy', count=438),\n",
       " Row(dest='Cuba', origin='United States', count=466),\n",
       " Row(dest='United States', origin='Switzerland', count=305),\n",
       " Row(dest='Dominica', origin='United States', count=20),\n",
       " Row(dest='United States', origin='Japan', count=1496),\n",
       " Row(dest='Portugal', origin='United States', count=127),\n",
       " Row(dest='United States', origin='Brazil', count=619),\n",
       " Row(dest='Bahrain', origin='United States', count=19),\n",
       " Row(dest='United States', origin='Peru', count=337),\n",
       " Row(dest='Indonesia', origin='United States', count=1),\n",
       " Row(dest='United States', origin='Belize', count=193),\n",
       " Row(dest='United States', origin='United Kingdom', count=1970),\n",
       " Row(dest='Belize', origin='United States', count=188),\n",
       " Row(dest='United States', origin='Ghana', count=20),\n",
       " Row(dest='United States', origin='Indonesia', count=2),\n",
       " Row(dest='United States', origin='Fiji', count=25),\n",
       " Row(dest='United States', origin='Canada', count=8483),\n",
       " Row(dest='United States', origin='Antigua and Barbuda', count=117),\n",
       " Row(dest='United States', origin='French Polynesia', count=40),\n",
       " Row(dest='Nicaragua', origin='United States', count=179),\n",
       " Row(dest='United States', origin='Latvia', count=15),\n",
       " Row(dest='United States', origin='Dominica', count=27),\n",
       " Row(dest='United States', origin='Czech Republic', count=12),\n",
       " Row(dest='United States', origin='Australia', count=258),\n",
       " Row(dest='United States', origin='Cook Islands', count=13),\n",
       " Row(dest='Austria', origin='United States', count=62),\n",
       " Row(dest='Jordan', origin='United States', count=44),\n",
       " Row(dest='Palau', origin='United States', count=30),\n",
       " Row(dest='South Korea', origin='United States', count=1048),\n",
       " Row(dest='Angola', origin='United States', count=15),\n",
       " Row(dest='Ghana', origin='United States', count=18),\n",
       " Row(dest='New Caledonia', origin='United States', count=1),\n",
       " Row(dest='Guadeloupe', origin='United States', count=56),\n",
       " Row(dest='France', origin='United States', count=935),\n",
       " Row(dest='Poland', origin='United States', count=32),\n",
       " Row(dest='Nigeria', origin='United States', count=59),\n",
       " Row(dest='United States', origin='Uruguay', count=13),\n",
       " Row(dest='Greenland', origin='United States', count=2),\n",
       " Row(dest='United States', origin='Bermuda', count=193),\n",
       " Row(dest='Chile', origin='United States', count=174),\n",
       " Row(dest='United States', origin='Cuba', count=478),\n",
       " Row(dest='United States', origin='Montenegro', count=1),\n",
       " Row(dest='United States', origin='Colombia', count=867),\n",
       " Row(dest='United States', origin='Barbados', count=130),\n",
       " Row(dest='United States', origin='Qatar', count=109),\n",
       " Row(dest='Australia', origin='United States', count=329),\n",
       " Row(dest='United States', origin='Cayman Islands', count=310),\n",
       " Row(dest='United States', origin='Jordan', count=44),\n",
       " Row(dest='United States', origin='Namibia', count=1),\n",
       " Row(dest='United States', origin='Trinidad and Tobago', count=217),\n",
       " Row(dest='United States', origin='Bolivia', count=13),\n",
       " Row(dest='Cook Islands', origin='United States', count=13),\n",
       " Row(dest='Bulgaria', origin='United States', count=3),\n",
       " Row(dest='United States', origin='Saint Kitts and Nevis', count=145),\n",
       " Row(dest='Uruguay', origin='United States', count=43),\n",
       " Row(dest='United States', origin='Haiti', count=225),\n",
       " Row(dest='Bonaire, Sint Eustatius, and Saba', origin='United States', count=58),\n",
       " Row(dest='Greece', origin='United States', count=30),\n",
       " Row(dest='United States', origin='Saint Martin', count=2),\n",
       " Row(dest='United States', origin='Guinea', count=2),\n",
       " Row(dest='United States', origin='Croatia', count=1),\n",
       " Row(dest='United States', origin='Romania', count=3),\n",
       " Row(dest='United States', origin='Ireland', count=268),\n",
       " Row(dest='Egypt', origin='United States', count=13),\n",
       " Row(dest='United States', origin='India', count=76),\n",
       " Row(dest='United States', origin='Singapore', count=24),\n",
       " Row(dest='United States', origin='Grenada', count=59),\n",
       " Row(dest='Costa Rica', origin='United States', count=494),\n",
       " Row(dest='Senegal', origin='United States', count=29),\n",
       " Row(dest='Guyana', origin='United States', count=26),\n",
       " Row(dest='United States', origin='Marshall Islands', count=49),\n",
       " Row(dest='United States', origin='Sint Maarten', count=223),\n",
       " Row(dest='Malta', origin='United States', count=1),\n",
       " Row(dest='Bolivia', origin='United States', count=61),\n",
       " Row(dest='Anguilla', origin='United States', count=21),\n",
       " Row(dest='United States', origin='Paraguay', count=3),\n",
       " Row(dest='United States', origin='Gibraltar', count=1),\n",
       " Row(dest='Turks and Caicos Islands', origin='United States', count=163),\n",
       " Row(dest='United States', origin='Afghanistan', count=3),\n",
       " Row(dest='Saint Vincent and the Grenadines', origin='United States', count=6),\n",
       " Row(dest='Italy', origin='United States', count=428),\n",
       " Row(dest='United States', origin='Russia', count=153),\n",
       " Row(dest='United States', origin='Federated States of Micronesia', count=54),\n",
       " Row(dest='Pakistan', origin='United States', count=12),\n",
       " Row(dest='Iceland', origin='United States', count=113),\n",
       " Row(dest='United States', origin='Netherlands', count=622),\n",
       " Row(dest='Marshall Islands', origin='United States', count=81),\n",
       " Row(dest='Luxembourg', origin='United States', count=120),\n",
       " Row(dest='Honduras', origin='United States', count=386),\n",
       " Row(dest='The Bahamas', origin='United States', count=811),\n",
       " Row(dest='El Salvador', origin='United States', count=495),\n",
       " Row(dest='United States', origin='Senegal', count=33),\n",
       " Row(dest='Samoa', origin='United States', count=25),\n",
       " Row(dest='United States', origin='Angola', count=12),\n",
       " Row(dest='Switzerland', origin='United States', count=314),\n",
       " Row(dest='United States', origin='Anguilla', count=20),\n",
       " Row(dest='Sint Maarten', origin='United States', count=240),\n",
       " Row(dest='Hong Kong', origin='United States', count=282),\n",
       " Row(dest='Trinidad and Tobago', origin='United States', count=205),\n",
       " Row(dest='Latvia', origin='United States', count=12),\n",
       " Row(dest='Yemen', origin='United States', count=1),\n",
       " Row(dest='United States', origin='Ecuador', count=351),\n",
       " Row(dest='Suriname', origin='United States', count=11),\n",
       " Row(dest='Mexico', origin='United States', count=5953),\n",
       " Row(dest='United States', origin='Cyprus', count=1),\n",
       " Row(dest='Ecuador', origin='United States', count=280),\n",
       " Row(dest='United States', origin='Portugal', count=109),\n",
       " Row(dest='United States', origin='Guatemala', count=340),\n",
       " Row(dest='United States', origin='Costa Rica', count=526),\n",
       " Row(dest='United States', origin='Suriname', count=20),\n",
       " Row(dest='Colombia', origin='United States', count=707),\n",
       " Row(dest='United States', origin='Cape Verde', count=19),\n",
       " Row(dest='United States', origin='Jamaica', count=695),\n",
       " Row(dest='Norway', origin='United States', count=25),\n",
       " Row(dest='United States', origin='Malaysia', count=1),\n",
       " Row(dest='The Gambia', origin='United States', count=1),\n",
       " Row(dest='United States', origin='Morocco', count=17),\n",
       " Row(dest='Thailand', origin='United States', count=12),\n",
       " Row(dest='United States', origin='Palau', count=41),\n",
       " Row(dest='Venezuela', origin='United States', count=373),\n",
       " Row(dest='United States', origin='Samoa', count=25),\n",
       " Row(dest='United States', origin='Algeria', count=1),\n",
       " Row(dest='Panama', origin='United States', count=397),\n",
       " Row(dest='United States', origin='Venezuela', count=352),\n",
       " Row(dest='Guinea', origin='United States', count=5),\n",
       " Row(dest='Antigua and Barbuda', origin='United States', count=146),\n",
       " Row(dest='United States', origin='Finland', count=32),\n",
       " Row(dest='United States', origin='Chile', count=182),\n",
       " Row(dest='United States', origin='Greece', count=45),\n",
       " Row(dest='Morocco', origin='United States', count=19),\n",
       " Row(dest='United States', origin='The Bahamas', count=888),\n",
       " Row(dest='United States', origin='Brunei', count=1),\n",
       " Row(dest='New Zealand', origin='United States', count=96),\n",
       " Row(dest='United States', origin='Hong Kong', count=317),\n",
       " Row(dest='Hungary', origin='United States', count=13),\n",
       " Row(dest='United States', origin='China', count=605),\n",
       " Row(dest='Sweden', origin='United States', count=59),\n",
       " Row(dest='United States', origin='Kuwait', count=27),\n",
       " Row(dest='United States', origin='Dominican Republic', count=1100),\n",
       " Row(dest='United States', origin='Egypt', count=15),\n",
       " Row(dest='Israel', origin='United States', count=121),\n",
       " Row(dest='United States', origin='United States', count=352742),\n",
       " Row(dest='United States', origin='Luxembourg', count=170),\n",
       " Row(dest='Ethiopia', origin='United States', count=12),\n",
       " Row(dest='United States', origin='Poland', count=42),\n",
       " Row(dest='Martinique', origin='United States', count=20),\n",
       " Row(dest='Saint Barthelemy', origin='United States', count=38),\n",
       " Row(dest='United States', origin='Saint Barthelemy', count=39),\n",
       " Row(dest='Barbados', origin='United States', count=129),\n",
       " Row(dest='United States', origin='Turkey', count=99),\n",
       " Row(dest='United States', origin='Azerbaijan', count=3),\n",
       " Row(dest='Germany', origin='United States', count=1423),\n",
       " Row(dest='United States', origin='South Korea', count=661),\n",
       " Row(dest='United States', origin='El Salvador', count=443),\n",
       " Row(dest='Ireland', origin='United States', count=250),\n",
       " Row(dest='United States', origin='Hungary', count=17),\n",
       " Row(dest='Malaysia', origin='United States', count=2),\n",
       " Row(dest='United States', origin='Panama', count=380),\n",
       " Row(dest='United States', origin='Ethiopia', count=12),\n",
       " Row(dest='United States', origin='Thailand', count=14),\n",
       " Row(dest='United States', origin='Aruba', count=332),\n",
       " Row(dest='United States', origin='Turks and Caicos Islands', count=177),\n",
       " Row(dest='Croatia', origin='United States', count=2),\n",
       " Row(dest='United States', origin='Pakistan', count=24),\n",
       " Row(dest='United States', origin='Honduras', count=388),\n",
       " Row(dest='Qatar', origin='United States', count=48),\n",
       " Row(dest='Fiji', origin='United States', count=49),\n",
       " Row(dest='Saint Kitts and Nevis', origin='United States', count=105),\n",
       " Row(dest='Taiwan', origin='United States', count=248),\n",
       " Row(dest='Haiti', origin='United States', count=188),\n",
       " Row(dest='Kuwait', origin='United States', count=27),\n",
       " Row(dest='Canada', origin='United States', count=8514),\n",
       " Row(dest='Belarus', origin='United States', count=1),\n",
       " Row(dest='Federated States of Micronesia', origin='United States', count=48),\n",
       " Row(dest='Jamaica', origin='United States', count=675),\n",
       " Row(dest='United States', origin='Malta', count=3),\n",
       " Row(dest='Dominican Republic', origin='United States', count=1020),\n",
       " Row(dest='Japan', origin='United States', count=1532),\n",
       " Row(dest='United States', origin='Lithuania', count=1),\n",
       " Row(dest='United States', origin='Saint Vincent and the Grenadines', count=17),\n",
       " Row(dest='Finland', origin='United States', count=33),\n",
       " Row(dest='United States', origin='Ukraine', count=15),\n",
       " Row(dest='United States', origin='Guadeloupe', count=31),\n",
       " Row(dest='United States', origin='France', count=914),\n",
       " Row(dest='Aruba', origin='United States', count=347),\n",
       " Row(dest='French Guiana', origin='United States', count=14),\n",
       " Row(dest='United States', origin='Norway', count=33),\n",
       " Row(dest='United States', origin='Kiribati', count=28),\n",
       " Row(dest='India', origin='United States', count=73),\n",
       " Row(dest='British Virgin Islands', origin='United States', count=73),\n",
       " Row(dest='United States', origin='Germany', count=1480),\n",
       " Row(dest='Brazil', origin='United States', count=969),\n",
       " Row(dest='United States', origin='New Zealand', count=77),\n",
       " Row(dest='French Polynesia', origin='United States', count=36),\n",
       " Row(dest='United Arab Emirates', origin='United States', count=157),\n",
       " Row(dest='Singapore', origin='United States', count=27),\n",
       " Row(dest='United States', origin='Mexico', count=6000),\n",
       " Row(dest='Netherlands', origin='United States', count=635),\n",
       " Row(dest='United States', origin='Sweden', count=68),\n",
       " Row(dest='United States', origin='Martinique', count=20),\n",
       " Row(dest='United States', origin='United Arab Emirates', count=142),\n",
       " Row(dest='China', origin='United States', count=504),\n",
       " Row(dest='United States', origin='Philippines', count=109),\n",
       " Row(dest='United States', origin='Nicaragua', count=173),\n",
       " Row(dest='Denmark', origin='United States', count=95),\n",
       " Row(dest='United States', origin='Georgia', count=1),\n",
       " Row(dest='United States', origin='Belgium', count=369),\n",
       " Row(dest='Libya', origin='United States', count=1),\n",
       " Row(dest='Argentina', origin='United States', count=183),\n",
       " Row(dest='Peru', origin='United States', count=246),\n",
       " Row(dest='Cayman Islands', origin='United States', count=251),\n",
       " Row(dest='South Africa', origin='United States', count=24),\n",
       " Row(dest='United States', origin='Argentina', count=152),\n",
       " Row(dest='United States', origin='Iceland', count=138),\n",
       " Row(dest='Spain', origin='United States', count=445),\n",
       " Row(dest='Bermuda', origin='United States', count=191),\n",
       " Row(dest='United States', origin='Austria', count=34),\n",
       " Row(dest='United States', origin='Nigeria', count=26),\n",
       " Row(dest='United States', origin='Bonaire, Sint Eustatius, and Saba', count=49),\n",
       " Row(dest='Kiribati', origin='United States', count=28),\n",
       " Row(dest='Czech Republic', origin='United States', count=23),\n",
       " Row(dest='Saudi Arabia', origin='United States', count=83),\n",
       " Row(dest='Macau', origin='United States', count=2),\n",
       " Row(dest='Belgium', origin='United States', count=376),\n",
       " Row(dest='United States', origin='Israel', count=126),\n",
       " Row(dest='United States', origin='Saint Lucia', count=102),\n",
       " Row(dest='United States', origin='Bahrain', count=2),\n",
       " Row(dest='United States', origin='British Virgin Islands', count=65),\n",
       " Row(dest='Afghanistan', origin='United States', count=8),\n",
       " Row(dest='Curacao', origin='United States', count=106),\n",
       " Row(dest='Georgia', origin='United States', count=1),\n",
       " Row(dest='United States', origin='Guyana', count=29),\n",
       " Row(dest='Philippines', origin='United States', count=127),\n",
       " Row(dest='United States', origin='Denmark', count=103),\n",
       " Row(dest='Grenada', origin='United States', count=67),\n",
       " Row(dest='Cape Verde', origin='United States', count=13),\n",
       " Row(dest='Ukraine', origin='United States', count=15),\n",
       " Row(dest='United States', origin='Papua New Guinea', count=1),\n",
       " Row(dest='Russia', origin='United States', count=199),\n",
       " Row(dest='United States', origin='Saudi Arabia', count=77),\n",
       " Row(dest='Guatemala', origin='United States', count=407),\n",
       " Row(dest='Saint Lucia', origin='United States', count=102),\n",
       " Row(dest='Paraguay', origin='United States', count=85),\n",
       " Row(dest='United States', origin='Curacao', count=97),\n",
       " Row(dest='United States', origin='Taiwan', count=231),\n",
       " Row(dest='United States', origin='South Africa', count=21),\n",
       " Row(dest='Togo', origin='United States', count=1),\n",
       " Row(dest='Turkey', origin='United States', count=104),\n",
       " Row(dest='United Kingdom', origin='United States', count=1726),\n",
       " Row(dest='Romania', origin='United States', count=4),\n",
       " Row(dest='United States', origin='Greenland', count=2),\n",
       " Row(dest='United States', origin='Spain', count=472),\n",
       " Row(dest='Cuba', origin='United States', count=320),\n",
       " Row(dest='United States', origin='Italy', count=447),\n",
       " Row(dest='United States', origin='Switzerland', count=319),\n",
       " Row(dest='Dominica', origin='United States', count=25),\n",
       " Row(dest='United States', origin='Japan', count=1412),\n",
       " Row(dest='Portugal', origin='United States', count=95),\n",
       " Row(dest='United States', origin='Brazil', count=575),\n",
       " Row(dest='Bahrain', origin='United States', count=40),\n",
       " Row(dest='United States', origin='Peru', count=288),\n",
       " Row(dest='Vietnam', origin='United States', count=1),\n",
       " Row(dest='United States', origin='United Kingdom', count=1649),\n",
       " Row(dest='United States', origin='Belize', count=112),\n",
       " Row(dest='Belize', origin='United States', count=113),\n",
       " Row(dest='United States', origin='Ghana', count=39),\n",
       " Row(dest='Mauritania', origin='United States', count=1),\n",
       " Row(dest='Saint Martin', origin='United States', count=1),\n",
       " Row(dest='United States', origin='Indonesia', count=1),\n",
       " Row(dest='United States', origin='Fiji', count=48),\n",
       " Row(dest='United States', origin='Mauritania', count=1),\n",
       " Row(dest='United States', origin='Canada', count=8650),\n",
       " Row(dest='United States', origin='Antigua and Barbuda', count=152),\n",
       " Row(dest='United States', origin='French Polynesia', count=36),\n",
       " Row(dest='Nicaragua', origin='United States', count=180),\n",
       " Row(dest='Namibia', origin='United States', count=1),\n",
       " Row(dest='United States', origin='Latvia', count=12),\n",
       " Row(dest='United States', origin='Dominica', count=29),\n",
       " Row(dest='United States', origin='Czech Republic', count=25),\n",
       " Row(dest='United States', origin='Australia', count=231),\n",
       " Row(dest='United States', origin='Cook Islands', count=12),\n",
       " Row(dest='Austria', origin='United States', count=34),\n",
       " Row(dest='Palau', origin='United States', count=41),\n",
       " Row(dest='Jordan', origin='United States', count=42),\n",
       " Row(dest='South Korea', origin='United States', count=713),\n",
       " Row(dest='Ghana', origin='United States', count=39),\n",
       " Row(dest='Angola', origin='United States', count=13),\n",
       " Row(dest='Guadeloupe', origin='United States', count=33),\n",
       " Row(dest='France', origin='United States', count=876),\n",
       " Row(dest='Nigeria', origin='United States', count=31),\n",
       " Row(dest='Poland', origin='United States', count=39),\n",
       " Row(dest='United States', origin='Uruguay', count=27),\n",
       " Row(dest='Greenland', origin='United States', count=1),\n",
       " Row(dest='Chile', origin='United States', count=178),\n",
       " Row(dest='United States', origin='Bermuda', count=196),\n",
       " Row(dest='Lebanon', origin='United States', count=1),\n",
       " Row(dest='United States', origin='Cuba', count=326),\n",
       " Row(dest='United States', origin='Colombia', count=777),\n",
       " Row(dest='United States', origin='Barbados', count=125),\n",
       " Row(dest='United States', origin='Qatar', count=48),\n",
       " Row(dest='Australia', origin='United States', count=280),\n",
       " Row(dest='United States', origin='Cayman Islands', count=262),\n",
       " Row(dest='United States', origin='Jordan', count=45),\n",
       " Row(dest='United States', origin='Bolivia', count=51),\n",
       " Row(dest='United States', origin='Trinidad and Tobago', count=213),\n",
       " Row(dest='Uruguay', origin='United States', count=50),\n",
       " Row(dest='Cook Islands', origin='United States', count=12),\n",
       " Row(dest='United States', origin='Saint Kitts and Nevis', count=120),\n",
       " Row(dest='Bulgaria', origin='United States', count=4),\n",
       " Row(dest='United States', origin='French Guiana', count=11),\n",
       " Row(dest='United States', origin='Haiti', count=197),\n",
       " Row(dest='Bonaire, Sint Eustatius, and Saba', origin='United States', count=50),\n",
       " Row(dest='Greece', origin='United States', count=38),\n",
       " Row(dest='United States', origin='Romania', count=12),\n",
       " Row(dest='United States', origin='Croatia', count=1),\n",
       " Row(dest='United States', origin='Ireland', count=266),\n",
       " Row(dest='Egypt', origin='United States', count=13),\n",
       " Row(dest='United States', origin='India', count=60),\n",
       " Row(dest='Equatorial Guinea', origin='United States', count=1),\n",
       " Row(dest='United States', origin='Niger', count=1),\n",
       " Row(dest='United States', origin='Singapore', count=22),\n",
       " Row(dest='United States', origin='Grenada', count=40),\n",
       " Row(dest='Costa Rica', origin='United States', count=509),\n",
       " Row(dest='Senegal', origin='United States', count=28),\n",
       " Row(dest='Guyana', origin='United States', count=34),\n",
       " Row(dest='United States', origin='Sint Maarten', count=260),\n",
       " Row(dest='United States', origin='Marshall Islands', count=33),\n",
       " Row(dest='Bolivia', origin='United States', count=33),\n",
       " Row(dest='Anguilla', origin='United States', count=22),\n",
       " Row(dest='United States', origin='Paraguay', count=15),\n",
       " Row(dest='Algeria', origin='United States', count=2),\n",
       " Row(dest='Turks and Caicos Islands', origin='United States', count=181),\n",
       " Row(dest='Saint Vincent and the Grenadines', origin='United States', count=4),\n",
       " Row(dest='Lithuania', origin='United States', count=1),\n",
       " Row(dest='Pakistan', origin='United States', count=14),\n",
       " Row(dest='Italy', origin='United States', count=327),\n",
       " Row(dest='United States', origin='Russia', count=167),\n",
       " Row(dest='United States', origin='Federated States of Micronesia', count=62),\n",
       " Row(dest='United States', origin='Netherlands', count=618),\n",
       " Row(dest='Iceland', origin='United States', count=146),\n",
       " Row(dest='Marshall Islands', origin='United States', count=50),\n",
       " Row(dest='Luxembourg', origin='United States', count=160),\n",
       " Row(dest='Honduras', origin='United States', count=423),\n",
       " Row(dest='Rwanda', origin='United States', count=1),\n",
       " Row(dest='The Bahamas', origin='United States', count=865),\n",
       " Row(dest='El Salvador', origin='United States', count=551),\n",
       " Row(dest='United States', origin='Senegal', count=32),\n",
       " Row(dest='Samoa', origin='United States', count=25),\n",
       " Row(dest='United States', origin='Angola', count=12),\n",
       " Row(dest='Kazakhstan', origin='United States', count=2),\n",
       " Row(dest='Switzerland', origin='United States', count=288),\n",
       " Row(dest='United States', origin='Anguilla', count=18),\n",
       " Row(dest='United States', origin='Mali', count=1),\n",
       " Row(dest='Sint Maarten', origin='United States', count=271),\n",
       " Row(dest='Hong Kong', origin='United States', count=282),\n",
       " Row(dest='Trinidad and Tobago', origin='United States', count=183),\n",
       " Row(dest='Latvia', origin='United States', count=29),\n",
       " Row(dest='United States', origin='Ecuador', count=307),\n",
       " Row(dest='Suriname', origin='United States', count=15),\n",
       " Row(dest='Mexico', origin='United States', count=6372),\n",
       " Row(dest='Ecuador', origin='United States', count=252),\n",
       " Row(dest='United States', origin='Portugal', count=126),\n",
       " Row(dest='United States', origin='Costa Rica', count=549),\n",
       " Row(dest='United States', origin='Guatemala', count=331),\n",
       " Row(dest='United States', origin='Suriname', count=21),\n",
       " Row(dest='Colombia', origin='United States', count=798),\n",
       " Row(dest='United States', origin='Cape Verde', count=15),\n",
       " Row(dest='Norway', origin='United States', count=48),\n",
       " Row(dest='United States', origin='Jamaica', count=599),\n",
       " Row(dest='United States', origin='Malaysia', count=1),\n",
       " Row(dest='United States', origin='Morocco', count=16),\n",
       " Row(dest='Thailand', origin='United States', count=2),\n",
       " Row(dest='Burundi', origin='United States', count=1),\n",
       " Row(dest='Venezuela', origin='United States', count=350),\n",
       " Row(dest='United States', origin='Samoa', count=25),\n",
       " Row(dest='United States', origin='Palau', count=35),\n",
       " Row(dest='United States', origin='Venezuela', count=295),\n",
       " Row(dest='Panama', origin='United States', count=418),\n",
       " Row(dest='United States', origin='Finland', count=15),\n",
       " Row(dest='Morocco', origin='United States', count=18),\n",
       " Row(dest='Antigua and Barbuda', origin='United States', count=123),\n",
       " Row(dest='United States', origin='Chile', count=171),\n",
       " Row(dest='Azerbaijan', origin='United States', count=3),\n",
       " Row(dest='United States', origin='Greece', count=14),\n",
       " Row(dest='United States', origin='The Bahamas', count=897),\n",
       " Row(dest='New Zealand', origin='United States', count=114),\n",
       " Row(dest='United States', origin='Hong Kong', count=344),\n",
       " Row(dest='Hungary', origin='United States', count=1),\n",
       " Row(dest='United States', origin='China', count=614),\n",
       " Row(dest='United States', origin='Kuwait', count=24),\n",
       " Row(dest='Sweden', origin='United States', count=70),\n",
       " Row(dest='United States', origin='Egypt', count=12),\n",
       " Row(dest='United States', origin='Dominican Republic', count=1119),\n",
       " Row(dest='Israel', origin='United States', count=119),\n",
       " Row(dest='United States', origin='United States', count=343132),\n",
       " Row(dest='United States', origin='Luxembourg', count=134),\n",
       " Row(dest='Ethiopia', origin='United States', count=12),\n",
       " Row(dest='United States', origin='Poland', count=37),\n",
       " Row(dest='Martinique', origin='United States', count=26),\n",
       " Row(dest='United States', origin='Zimbabwe', count=2),\n",
       " Row(dest='United States', origin='Saint Barthelemy', count=58),\n",
       " Row(dest='Saint Barthelemy', origin='United States', count=67),\n",
       " Row(dest='United States', origin='Turkey', count=100),\n",
       " Row(dest='Barbados', origin='United States', count=97),\n",
       " Row(dest='Germany', origin='United States', count=1423),\n",
       " Row(dest='Kyrgyzstan', origin='United States', count=1),\n",
       " Row(dest='United States', origin='South Korea', count=687),\n",
       " Row(dest='United States', origin='El Salvador', count=466),\n",
       " Row(dest='Ireland', origin='United States', count=255),\n",
       " Row(dest='Malaysia', origin='United States', count=2),\n",
       " Row(dest='United States', origin='Aruba', count=344),\n",
       " Row(dest='United States', origin='Panama', count=419),\n",
       " Row(dest='United States', origin='Ethiopia', count=12),\n",
       " Row(dest='United States', origin='Turks and Caicos Islands', count=178),\n",
       " Row(dest='United States', origin='Pakistan', count=12),\n",
       " Row(dest='Cyprus', origin='United States', count=2),\n",
       " Row(dest='United States', origin='Honduras', count=392),\n",
       " Row(dest='Fiji', origin='United States', count=34),\n",
       " Row(dest='Qatar', origin='United States', count=71),\n",
       " Row(dest='Saint Kitts and Nevis', origin='United States', count=99),\n",
       " Row(dest='Kuwait', origin='United States', count=24),\n",
       " Row(dest='Haiti', origin='United States', count=199),\n",
       " Row(dest='Taiwan', origin='United States', count=243),\n",
       " Row(dest='Canada', origin='United States', count=7860),\n",
       " Row(dest='Federated States of Micronesia', origin='United States', count=53),\n",
       " Row(dest='Jamaica', origin='United States', count=581),\n",
       " Row(dest='Dominican Republic', origin='United States', count=1068),\n",
       " Row(dest='Japan', origin='United States', count=1613),\n",
       " Row(dest='United States', origin='Saint Vincent and the Grenadines', count=10),\n",
       " Row(dest='Finland', origin='United States', count=17),\n",
       " Row(dest='United States', origin='Ukraine', count=4),\n",
       " Row(dest='United States', origin='Guadeloupe', count=42),\n",
       " Row(dest='United States', origin='France', count=848),\n",
       " Row(dest='United States', origin='Norway', count=46),\n",
       " Row(dest='Aruba', origin='United States', count=352),\n",
       " Row(dest='French Guiana', origin='United States', count=7),\n",
       " Row(dest='United States', origin='Kiribati', count=29),\n",
       " Row(dest='Zimbabwe', origin='United States', count=2),\n",
       " Row(dest='India', origin='United States', count=61),\n",
       " Row(dest='British Virgin Islands', origin='United States', count=101),\n",
       " Row(dest='United States', origin='Germany', count=1402),\n",
       " Row(dest='United States', origin='New Zealand', count=77),\n",
       " Row(dest='Brazil', origin='United States', count=912),\n",
       " Row(dest='Saint Helena, Ascension, and Tristan da Cunha', origin='United States', count=1),\n",
       " Row(dest='United States', origin='Cambodia', count=3),\n",
       " Row(dest='French Polynesia', origin='United States', count=43),\n",
       " Row(dest='United Arab Emirates', origin='United States', count=202),\n",
       " Row(dest='Singapore', origin='United States', count=21),\n",
       " Row(dest='Tanzania', origin='United States', count=2),\n",
       " Row(dest='United States', origin='Mexico', count=6354),\n",
       " Row(dest='Netherlands', origin='United States', count=640),\n",
       " Row(dest='United States', origin='Sweden', count=73),\n",
       " Row(dest='United States', origin='Martinique', count=24),\n",
       " Row(dest='United States', origin='United Arab Emirates', count=187),\n",
       " Row(dest='Denmark', origin='United States', count=104),\n",
       " Row(dest='China', origin='United States', count=543),\n",
       " Row(dest='United States', origin='Nicaragua', count=185),\n",
       " Row(dest='United States', origin='Philippines', count=112),\n",
       " Row(dest='United States', origin='Belgium', count=193),\n",
       " Row(dest='Nepal', origin='United States', count=1),\n",
       " Row(dest='Libya', origin='United States', count=1),\n",
       " Row(dest='Argentina', origin='United States', count=176),\n",
       " Row(dest='Peru', origin='United States', count=255),\n",
       " Row(dest='Cayman Islands', origin='United States', count=274),\n",
       " Row(dest='South Africa', origin='United States', count=24),\n",
       " Row(dest='United States', origin='Iceland', count=151),\n",
       " Row(dest='United States', origin='Argentina', count=140),\n",
       " Row(dest='Spain', origin='United States', count=370),\n",
       " Row(dest='Bermuda', origin='United States', count=163),\n",
       " Row(dest='United States', origin='Nigeria', count=49),\n",
       " Row(dest='United States', origin='Austria', count=39),\n",
       " Row(dest='United States', origin='Bonaire, Sint Eustatius, and Saba', count=54),\n",
       " Row(dest='Kiribati', origin='United States', count=29),\n",
       " Row(dest='Saudi Arabia', origin='United States', count=86),\n",
       " Row(dest='Czech Republic', origin='United States', count=10),\n",
       " Row(dest='Macau', origin='United States', count=2),\n",
       " Row(dest='Belgium', origin='United States', count=265),\n",
       " Row(dest='United States', origin='Israel', count=107),\n",
       " Row(dest='United States', origin='Saint Lucia', count=92),\n",
       " Row(dest='Sierra Leone', origin='United States', count=1),\n",
       " Row(dest='United States', origin='Bahrain', count=1),\n",
       " Row(dest='United States', origin='British Virgin Islands', count=94),\n",
       " Row(dest='United States', origin='Saint Helena, Ascension, and Tristan da Cunha', count=2),\n",
       " Row(dest='Curacao', origin='United States', count=97),\n",
       " Row(dest='United States', origin='Denmark', count=106),\n",
       " Row(dest='United States', origin='Guyana', count=52),\n",
       " Row(dest='Philippines', origin='United States', count=136),\n",
       " Row(dest='Grenada', origin='United States', count=42),\n",
       " Row(dest='Cape Verde', origin='United States', count=21),\n",
       " Row(dest='Ukraine', origin='United States', count=4),\n",
       " Row(dest='Russia', origin='United States', count=194),\n",
       " Row(dest='United States', origin='Saudi Arabia', count=84),\n",
       " Row(dest='Guatemala', origin='United States', count=376),\n",
       " Row(dest='Saint Lucia', origin='United States', count=91),\n",
       " Row(dest='Paraguay', origin='United States', count=75),\n",
       " Row(dest='United States', origin='Curacao', count=89),\n",
       " Row(dest='United States', origin='Taiwan', count=235),\n",
       " Row(dest='United States', origin='South Africa', count=26),\n",
       " Row(dest='Niger', origin='United States', count=1),\n",
       " Row(dest='Turkey', origin='United States', count=99),\n",
       " Row(dest='United Kingdom', origin='United States', count=1802),\n",
       " Row(dest='Romania', origin='United States', count=14),\n",
       " Row(dest='United States', origin='Greenland', count=3),\n",
       " Row(dest='Papua New Guinea', origin='United States', count=2),\n",
       " Row(dest='United States', origin='Spain', count=377),\n",
       " Row(dest='United States', origin='Italy', count=333),\n",
       " Row(dest='Cuba', origin='United States', count=337),\n",
       " Row(dest='United States', origin='Switzerland', count=285),\n",
       " Row(dest='Dominica', origin='United States', count=19),\n",
       " Row(dest='Portugal', origin='United States', count=116),\n",
       " Row(dest='United States', origin='Japan', count=1476),\n",
       " Row(dest='United States', origin='Brazil', count=510),\n",
       " Row(dest='Bahrain', origin='United States', count=50),\n",
       " Row(dest='United States', origin='Peru', count=300),\n",
       " Row(dest='Indonesia', origin='United States', count=1),\n",
       " Row(dest='United States', origin='United Kingdom', count=1711),\n",
       " Row(dest='United States', origin='Belize', count=127),\n",
       " Row(dest='Belize', origin='United States', count=137),\n",
       " Row(dest='Kenya', origin='United States', count=1),\n",
       " Row(dest='United States', origin='Ghana', count=16),\n",
       " Row(dest='United States', origin='Fiji', count=30),\n",
       " Row(dest='United States', origin='Canada', count=7983),\n",
       " Row(dest='United States', origin='French Polynesia', count=40),\n",
       " Row(dest='United States', origin='Antigua and Barbuda', count=123),\n",
       " Row(dest='Brunei', origin='United States', count=1),\n",
       " Row(dest='Nicaragua', origin='United States', count=178),\n",
       " Row(dest='United States', origin='Latvia', count=12),\n",
       " Row(dest='United States', origin='Dominica', count=25),\n",
       " Row(dest='United States', origin='Czech Republic', count=9),\n",
       " Row(dest='United States', origin='Cook Islands', count=12),\n",
       " Row(dest='Austria', origin='United States', count=35),\n",
       " Row(dest='United States', origin='Australia', count=222),\n",
       " Row(dest='Jordan', origin='United States', count=74),\n",
       " Row(dest='Palau', origin='United States', count=35),\n",
       " Row(dest='South Korea', origin='United States', count=842),\n",
       " Row(dest='Angola', origin='United States', count=12),\n",
       " Row(dest='Ghana', origin='United States', count=16),\n",
       " Row(dest='New Caledonia', origin='United States', count=1),\n",
       " Row(dest='Guadeloupe', origin='United States', count=41),\n",
       " Row(dest='France', origin='United States', count=837),\n",
       " Row(dest='Poland', origin='United States', count=40),\n",
       " Row(dest='Nigeria', origin='United States', count=58),\n",
       " Row(dest='United States', origin='Uruguay', count=20),\n",
       " Row(dest='Greenland', origin='United States', count=1),\n",
       " Row(dest='Chile', origin='United States', count=147),\n",
       " Row(dest='United States', origin='Bermuda', count=166),\n",
       " Row(dest='Lebanon', origin='United States', count=1),\n",
       " ...]"
      ]
     },
     "execution_count": 29,
     "metadata": {},
     "output_type": "execute_result"
    }
   ],
   "source": [
    "#5a\n",
    "\n",
    "# Using .colect() action command to show all the records of the DataFrame flightsAllDF, expensive operaion\n",
    "flightsAllDF.collect()"
   ]
  },
  {
   "cell_type": "code",
   "execution_count": 0,
   "metadata": {
    "application/vnd.databricks.v1+cell": {
     "cellMetadata": {
      "byteLimit": 2048000,
      "rowLimit": 10000
     },
     "inputWidgets": {},
     "nuid": "9ba6bced-04dc-473a-95b0-dcdbc4568f47",
     "showTitle": false,
     "title": ""
    }
   },
   "outputs": [
    {
     "output_type": "stream",
     "name": "stdout",
     "output_type": "stream",
     "text": [
      "+-------------+-------+-----+\n|         dest| origin|count|\n+-------------+-------+-----+\n|United States|Romania|    1|\n|United States|Ireland|  264|\n|United States|  India|   69|\n+-------------+-------+-----+\nonly showing top 3 rows\n\n"
     ]
    },
    {
     "output_type": "execute_result",
     "data": {
      "text/plain": [
       "[Row(dest='United States', origin='Romania', count=1),\n",
       " Row(dest='United States', origin='Ireland', count=264),\n",
       " Row(dest='United States', origin='India', count=69)]"
      ]
     },
     "execution_count": 35,
     "metadata": {},
     "output_type": "execute_result"
    }
   ],
   "source": [
    "#5b\n",
    "\n",
    "# Showing the first three rows of the distributed DF using three different action commands: .show(n=3), .head(n=3) and .take(n=3)\n",
    "\n",
    "flightsAllDF.show(n=3)\n",
    "\n",
    "flightsAllDF.head(n=3)\n",
    "\n",
    "flightsAllDF.take(3)\n",
    "\n",
    "# .show() gives the output as a table of rows while .head() and .take() gives us the output as first n rows as a list of rows"
   ]
  },
  {
   "cell_type": "code",
   "execution_count": 0,
   "metadata": {
    "application/vnd.databricks.v1+cell": {
     "cellMetadata": {
      "byteLimit": 2048000,
      "rowLimit": 10000
     },
     "inputWidgets": {},
     "nuid": "00d89737-e33e-461c-8576-4ad865c76d85",
     "showTitle": false,
     "title": ""
    }
   },
   "outputs": [
    {
     "output_type": "execute_result",
     "data": {
      "text/plain": [
       "pyspark.sql.types.Row"
      ]
     },
     "execution_count": 36,
     "metadata": {},
     "output_type": "execute_result"
    }
   ],
   "source": [
    "#5c\n",
    "\n",
    "# Using the .first() to first save the first row and then using the .type() to print it's type\n",
    "\n",
    "first_row = flightsAllDF.first()\n",
    "\n",
    "type(first_row)"
   ]
  },
  {
   "cell_type": "markdown",
   "metadata": {
    "application/vnd.databricks.v1+cell": {
     "cellMetadata": {},
     "inputWidgets": {},
     "nuid": "53e1dc1b-3a76-4c00-a10a-c4e266cab5b3",
     "showTitle": false,
     "title": ""
    }
   },
   "source": [
    "## TASK 6. Obtain a column called filename and rename the count column"
   ]
  },
  {
   "cell_type": "code",
   "execution_count": 0,
   "metadata": {
    "application/vnd.databricks.v1+cell": {
     "cellMetadata": {
      "byteLimit": 2048000,
      "rowLimit": 10000
     },
     "inputWidgets": {},
     "nuid": "041057c4-63cc-4837-8694-43d40baef668",
     "showTitle": false,
     "title": ""
    }
   },
   "outputs": [],
   "source": [
    "#6a\n",
    "\n",
    "# Renaming the count column to numflights column and creating a 4th column named filename and saving everything in a new dataframe flightsAllDF_1\n",
    "\n",
    "flightsAllDF_1 = flightsAllDF.withColumnRenamed('count', 'numflights').withColumn('filename', F.input_file_name())\n"
   ]
  },
  {
   "cell_type": "code",
   "execution_count": 0,
   "metadata": {
    "application/vnd.databricks.v1+cell": {
     "cellMetadata": {
      "byteLimit": 2048000,
      "rowLimit": 10000
     },
     "inputWidgets": {},
     "nuid": "4f8a1442-9b29-4110-bac0-7b4231e30230",
     "showTitle": false,
     "title": ""
    }
   },
   "outputs": [],
   "source": [
    "#6b\n",
    "\n",
    "# Repeating the above task 6a by using .select() instead\n",
    "flightsAllDF_1 = flightsAllDF.select(flightsAllDF['dest'],flightsAllDF['origin'], flightsAllDF['count'].alias('numflights'), F.input_file_name().alias('filename'))"
   ]
  },
  {
   "cell_type": "code",
   "execution_count": 0,
   "metadata": {
    "application/vnd.databricks.v1+cell": {
     "cellMetadata": {
      "byteLimit": 2048000,
      "rowLimit": 10000
     },
     "inputWidgets": {},
     "nuid": "b39d9133-701f-474f-b146-a77a70ae55ae",
     "showTitle": false,
     "title": ""
    }
   },
   "outputs": [
    {
     "output_type": "stream",
     "name": "stdout",
     "output_type": "stream",
     "text": [
      "+----------+--------------------------------------------------------------------------------+\n|numflights|filename                                                                        |\n+----------+--------------------------------------------------------------------------------+\n|1         |dbfs:/databricks-datasets/definitive-guide/data/flight-data/csv/2010-summary.csv|\n|264       |dbfs:/databricks-datasets/definitive-guide/data/flight-data/csv/2010-summary.csv|\n|69        |dbfs:/databricks-datasets/definitive-guide/data/flight-data/csv/2010-summary.csv|\n|24        |dbfs:/databricks-datasets/definitive-guide/data/flight-data/csv/2010-summary.csv|\n|1         |dbfs:/databricks-datasets/definitive-guide/data/flight-data/csv/2010-summary.csv|\n+----------+--------------------------------------------------------------------------------+\nonly showing top 5 rows\n\n"
     ]
    }
   ],
   "source": [
    "#6c\n",
    "\n",
    "# Outputing 5 records with just the numflights and filename columns\n",
    "flightsAllDF_1.select(flightsAllDF_1['numflights'], flightsAllDF_1['filename']).show(n=5, truncate = False)"
   ]
  },
  {
   "cell_type": "code",
   "execution_count": 0,
   "metadata": {
    "application/vnd.databricks.v1+cell": {
     "cellMetadata": {
      "byteLimit": 2048000,
      "rowLimit": 10000
     },
     "inputWidgets": {},
     "nuid": "8006158d-739c-4a43-bad3-2621cbbf4dba",
     "showTitle": false,
     "title": ""
    }
   },
   "outputs": [
    {
     "output_type": "execute_result",
     "data": {
      "text/plain": [
       "['dest', 'origin', 'numflights', 'filename']"
      ]
     },
     "execution_count": 44,
     "metadata": {},
     "output_type": "execute_result"
    }
   ],
   "source": [
    "#6d\n",
    "\n",
    "# Saving flightsAllDF_1 as flightsAllDF (overwritting it) and printing out column names\n",
    "flightsAllDF = flightsAllDF_1\n",
    "\n",
    "flightsAllDF.columns"
   ]
  },
  {
   "cell_type": "markdown",
   "metadata": {
    "application/vnd.databricks.v1+cell": {
     "cellMetadata": {},
     "inputWidgets": {},
     "nuid": "d5c65c0e-caf7-4fe1-86f9-a6e3ecb162c0",
     "showTitle": false,
     "title": ""
    }
   },
   "source": [
    "## TASK 7. Add a year column extracted from filename"
   ]
  },
  {
   "cell_type": "code",
   "execution_count": 0,
   "metadata": {
    "application/vnd.databricks.v1+cell": {
     "cellMetadata": {
      "byteLimit": 2048000,
      "rowLimit": 10000
     },
     "inputWidgets": {},
     "nuid": "235ce99f-45ec-493c-b0a9-ad4f6f2e6412",
     "showTitle": false,
     "title": ""
    }
   },
   "outputs": [],
   "source": [
    "#7a\n",
    "\n",
    "# Adding a new column 'year' which has the year number extracted from the filename column in it'\n",
    "flightsAllDF_2 = flightsAllDF.select('*', F.regexp_extract('filename',r'([0-9]{4})',1).alias('year').cast(IntegerType()))"
   ]
  },
  {
   "cell_type": "code",
   "execution_count": 0,
   "metadata": {
    "application/vnd.databricks.v1+cell": {
     "cellMetadata": {
      "byteLimit": 2048000,
      "rowLimit": 10000
     },
     "inputWidgets": {},
     "nuid": "002b1c59-5b98-4c80-8018-359b6b714dd9",
     "showTitle": false,
     "title": ""
    }
   },
   "outputs": [],
   "source": [
    "#7b\n",
    "\n",
    "# Dropping column filename from flightsAllDF_2 and saving it back to flightsAllDF\n",
    "flightsAllDF = flightsAllDF_2.drop('filename')"
   ]
  },
  {
   "cell_type": "code",
   "execution_count": 0,
   "metadata": {
    "application/vnd.databricks.v1+cell": {
     "cellMetadata": {
      "byteLimit": 2048000,
      "rowLimit": 10000
     },
     "inputWidgets": {},
     "nuid": "e42fdaac-c9a8-4730-85c0-4f48da898020",
     "showTitle": false,
     "title": ""
    }
   },
   "outputs": [
    {
     "output_type": "stream",
     "name": "stdout",
     "output_type": "stream",
     "text": [
      "+-----------------+-------------+----------+----+\n|             dest|       origin|numflights|year|\n+-----------------+-------------+----------+----+\n|    United States|      Romania|         1|2010|\n|    United States|      Ireland|       264|2010|\n|    United States|        India|        69|2010|\n|            Egypt|United States|        24|2010|\n|Equatorial Guinea|United States|         1|2010|\n+-----------------+-------------+----------+----+\nonly showing top 5 rows\n\n"
     ]
    }
   ],
   "source": [
    "#7c\n",
    "\n",
    "# Viewing the 5 records in table format withh all columns for the dataframe flightsAllDF\n",
    "flightsAllDF.show(n=5)"
   ]
  },
  {
   "cell_type": "code",
   "execution_count": 0,
   "metadata": {
    "application/vnd.databricks.v1+cell": {
     "cellMetadata": {
      "byteLimit": 2048000,
      "rowLimit": 10000
     },
     "inputWidgets": {},
     "nuid": "73dc616d-fa98-4e57-8f65-9bd8747aca87",
     "showTitle": false,
     "title": ""
    }
   },
   "outputs": [
    {
     "output_type": "stream",
     "name": "stdout",
     "output_type": "stream",
     "text": [
      "root\n |-- dest: string (nullable = true)\n |-- origin: string (nullable = true)\n |-- numflights: long (nullable = true)\n |-- year: integer (nullable = true)\n\n"
     ]
    }
   ],
   "source": [
    "#7d\n",
    "\n",
    "# Viewing the data types of the columns using schema\n",
    "flightsAllDF.printSchema()"
   ]
  },
  {
   "cell_type": "markdown",
   "metadata": {
    "application/vnd.databricks.v1+cell": {
     "cellMetadata": {},
     "inputWidgets": {},
     "nuid": "f689da3a-8f7f-48f1-8839-50ec0a07d1df",
     "showTitle": false,
     "title": ""
    }
   },
   "source": [
    "## TASK 8. Sorting DF"
   ]
  },
  {
   "cell_type": "code",
   "execution_count": 0,
   "metadata": {
    "application/vnd.databricks.v1+cell": {
     "cellMetadata": {
      "byteLimit": 2048000,
      "rowLimit": 10000
     },
     "inputWidgets": {},
     "nuid": "333c5a46-4626-4211-9bb9-288dba3e9365",
     "showTitle": false,
     "title": ""
    }
   },
   "outputs": [
    {
     "output_type": "stream",
     "name": "stdout",
     "output_type": "stream",
     "text": [
      "+-----------+-------------+----------+----+\n|       dest|       origin|numflights|year|\n+-----------+-------------+----------+----+\n|Afghanistan|United States|        11|2010|\n|Afghanistan|United States|         8|2011|\n|Afghanistan|United States|         5|2012|\n|    Algeria|United States|         9|2014|\n|    Algeria|United States|         4|2015|\n|    Algeria|United States|         2|2013|\n|     Angola|United States|        15|2015|\n|     Angola|United States|        14|2010|\n|     Angola|United States|        13|2011|\n|     Angola|United States|        13|2014|\n+-----------+-------------+----------+----+\nonly showing top 10 rows\n\n"
     ]
    }
   ],
   "source": [
    "#8a\n",
    "\n",
    "# Sorting the flightsAllDF by 'dest' in ascending order and 'numflight' in descending order and showing 10 rows\n",
    "flightsAllDF.sort(['dest','numflights'], ascending = [True, False]).show(n=10)\n"
   ]
  },
  {
   "cell_type": "markdown",
   "metadata": {
    "application/vnd.databricks.v1+cell": {
     "cellMetadata": {},
     "inputWidgets": {},
     "nuid": "79ec95f6-6193-4da4-940c-ac33ae740089",
     "showTitle": false,
     "title": ""
    }
   },
   "source": [
    "## TASK 9. Counts of distinct column values"
   ]
  },
  {
   "cell_type": "code",
   "execution_count": 0,
   "metadata": {
    "application/vnd.databricks.v1+cell": {
     "cellMetadata": {
      "byteLimit": 2048000,
      "rowLimit": 10000
     },
     "inputWidgets": {},
     "nuid": "f6afc5bd-9988-4e36-b595-4d84db4e2afd",
     "showTitle": false,
     "title": ""
    }
   },
   "outputs": [
    {
     "output_type": "stream",
     "name": "stdout",
     "output_type": "stream",
     "text": [
      "+--------------------+\n|count(DISTINCT dest)|\n+--------------------+\n|                 167|\n+--------------------+\n\n"
     ]
    }
   ],
   "source": [
    "#9a\n",
    "\n",
    "# Showing the number of distinct destinations in the dataset\n",
    "flightsAllDF.select(F.countDistinct('dest')).show()"
   ]
  },
  {
   "cell_type": "code",
   "execution_count": 0,
   "metadata": {
    "application/vnd.databricks.v1+cell": {
     "cellMetadata": {
      "byteLimit": 2048000,
      "rowLimit": 10000
     },
     "inputWidgets": {},
     "nuid": "5a009a11-ebf5-46a3-b1ae-5b4abd685698",
     "showTitle": false,
     "title": ""
    }
   },
   "outputs": [
    {
     "output_type": "execute_result",
     "data": {
      "text/plain": [
       "772"
      ]
     },
     "execution_count": 63,
     "metadata": {},
     "output_type": "execute_result"
    }
   ],
   "source": [
    "#9b\n",
    "\n",
    "# Showing the many distinct combinations of destination and year\n",
    "flightsAllDF.select('dest','year').distinct().count()"
   ]
  },
  {
   "cell_type": "markdown",
   "metadata": {
    "application/vnd.databricks.v1+cell": {
     "cellMetadata": {},
     "inputWidgets": {},
     "nuid": "1bafb45b-a44e-4bdd-bd70-b3c3a896fe51",
     "showTitle": false,
     "title": ""
    }
   },
   "source": [
    "## TASK 10. Flights from USA to Japan or South Korea"
   ]
  },
  {
   "cell_type": "code",
   "execution_count": 0,
   "metadata": {
    "application/vnd.databricks.v1+cell": {
     "cellMetadata": {
      "byteLimit": 2048000,
      "rowLimit": 10000
     },
     "inputWidgets": {},
     "nuid": "f09fc4a5-0413-44ea-93f4-e392fe69ca07",
     "showTitle": false,
     "title": ""
    }
   },
   "outputs": [
    {
     "output_type": "execute_result",
     "data": {
      "text/plain": [
       "12"
      ]
     },
     "execution_count": 71,
     "metadata": {},
     "output_type": "execute_result"
    }
   ],
   "source": [
    "#10a\n",
    "\n",
    "# Number of records that contain either Japan or South Korea as the destination\n",
    "flightsAllDF.filter((flightsAllDF['dest'] == 'Japan') | (flightsAllDF['dest'] == 'South Korea')).count()"
   ]
  },
  {
   "cell_type": "code",
   "execution_count": 0,
   "metadata": {
    "application/vnd.databricks.v1+cell": {
     "cellMetadata": {
      "byteLimit": 2048000,
      "rowLimit": 10000
     },
     "inputWidgets": {},
     "nuid": "a5df4096-04c9-4e55-94cc-c9af1ce63316",
     "showTitle": false,
     "title": ""
    }
   },
   "outputs": [
    {
     "output_type": "stream",
     "name": "stdout",
     "output_type": "stream",
     "text": [
      "+-----------+-------------+----------+----+\n|       dest|       origin|numflights|year|\n+-----------+-------------+----------+----+\n|South Korea|United States|       842|2013|\n+-----------+-------------+----------+----+\n\n"
     ]
    }
   ],
   "source": [
    "#10b\n",
    "\n",
    "# Number of flights United States send to South Korea in 2013\n",
    "flightsAllDF.filter((flightsAllDF['dest'] == 'South Korea') & (flightsAllDF['year'] == 2013)).show()"
   ]
  },
  {
   "cell_type": "markdown",
   "metadata": {
    "application/vnd.databricks.v1+cell": {
     "cellMetadata": {},
     "inputWidgets": {},
     "nuid": "68cd7da2-3c26-4321-8596-1d45aa2bfd4c",
     "showTitle": false,
     "title": ""
    }
   },
   "source": [
    "## TASK 11. Produce a bar chart of the domestic flights across years"
   ]
  },
  {
   "cell_type": "code",
   "execution_count": 0,
   "metadata": {
    "application/vnd.databricks.v1+cell": {
     "cellMetadata": {
      "byteLimit": 2048000,
      "rowLimit": 10000
     },
     "inputWidgets": {},
     "nuid": "e8de3fb1-7848-4513-be59-d297c6ad7c38",
     "showTitle": false,
     "title": ""
    }
   },
   "outputs": [
    {
     "output_type": "display_data",
     "data": {
      "text/html": [
       "<style scoped>\n",
       "  .table-result-container {\n",
       "    max-height: 300px;\n",
       "    overflow: auto;\n",
       "  }\n",
       "  table, th, td {\n",
       "    border: 1px solid black;\n",
       "    border-collapse: collapse;\n",
       "  }\n",
       "  th, td {\n",
       "    padding: 5px;\n",
       "  }\n",
       "  th {\n",
       "    text-align: left;\n",
       "  }\n",
       "</style><div class='table-result-container'><table class='table-result'><thead style='background-color: white'><tr><th>dest</th><th>origin</th><th>numflights</th><th>year</th></tr></thead><tbody><tr><td>United States</td><td>United States</td><td>348113</td><td>2010</td></tr><tr><td>United States</td><td>United States</td><td>352742</td><td>2011</td></tr><tr><td>United States</td><td>United States</td><td>347452</td><td>2012</td></tr><tr><td>United States</td><td>United States</td><td>343132</td><td>2013</td></tr><tr><td>United States</td><td>United States</td><td>358354</td><td>2014</td></tr><tr><td>United States</td><td>United States</td><td>370002</td><td>2015</td></tr></tbody></table></div>"
      ]
     },
     "metadata": {
      "application/vnd.databricks.v1+output": {
       "addedWidgets": {},
       "aggData": [],
       "aggError": "",
       "aggOverflow": false,
       "aggSchema": [],
       "aggSeriesLimitReached": false,
       "aggType": "",
       "arguments": {},
       "columnCustomDisplayInfos": {},
       "data": [
        [
         "United States",
         "United States",
         348113,
         2010
        ],
        [
         "United States",
         "United States",
         352742,
         2011
        ],
        [
         "United States",
         "United States",
         347452,
         2012
        ],
        [
         "United States",
         "United States",
         343132,
         2013
        ],
        [
         "United States",
         "United States",
         358354,
         2014
        ],
        [
         "United States",
         "United States",
         370002,
         2015
        ]
       ],
       "datasetInfos": [],
       "dbfsResultPath": null,
       "isJsonSchema": true,
       "metadata": {},
       "overflow": false,
       "plotOptions": {
        "customPlotOptions": {},
        "displayType": "table",
        "pivotAggregation": null,
        "pivotColumns": null,
        "xColumns": null,
        "yColumns": null
       },
       "removedWidgets": [],
       "schema": [
        {
         "metadata": "{}",
         "name": "dest",
         "type": "\"string\""
        },
        {
         "metadata": "{}",
         "name": "origin",
         "type": "\"string\""
        },
        {
         "metadata": "{}",
         "name": "numflights",
         "type": "\"long\""
        },
        {
         "metadata": "{}",
         "name": "year",
         "type": "\"integer\""
        }
       ],
       "type": "table"
      }
     },
     "output_type": "display_data"
    },
    {
     "output_type": "display_data",
     "data": {
      "text/plain": [
       "Databricks visualization. Run in Databricks to view."
      ]
     },
     "metadata": {
      "application/vnd.databricks.v1.subcommand+json": {
       "baseErrorDetails": null,
       "bindings": {},
       "collapsed": false,
       "command": "%python\n__backend_agg_display_orig = display\n__backend_agg_dfs = []\ndef __backend_agg_display_new(df):\n    __backend_agg_df_modules = [\"pandas.core.frame\", \"databricks.koalas.frame\", \"pyspark.sql.dataframe\", \"pyspark.pandas.frame\", \"pyspark.sql.connect.dataframe\"]\n    if (type(df).__module__ in __backend_agg_df_modules and type(df).__name__ == 'DataFrame') or isinstance(df, list):\n        __backend_agg_dfs.append(df)\n\ndisplay = __backend_agg_display_new\n\ndef __backend_agg_user_code_fn():\n    import base64\n    exec(base64.standard_b64decode(\"IzExYQoKIyBEaXNwbGF5aW5nIGEgYmFyIGNoYXJ0IG9mIHRoZSBudW1iZXIgb2YgRG9tZXN0aWMgZmxpZ2h0cyBhY3Jvc3MgeWVhcnMsIGZpcnN0IHdlIHdpbGwgc3Vic2V0IHRoZSBkYXRhIHRvIGdldCB0aGVzZSB2YWx1ZXMgb25seQpmbGlnaHRzQWxsREYuZmlsdGVyKChmbGlnaHRzQWxsREZbJ2Rlc3QnXSA9PSAnVW5pdGVkIFN0YXRlcycpICYgKGZsaWdodHNBbGxERlsnb3JpZ2luJ10gPT0gJ1VuaXRlZCBTdGF0ZXMnKSkuc29ydCgneWVhcicsIGFzY2VuZGluZyA9IFRydWUpLmRpc3BsYXkoKQ==\").decode())\n\ntry:\n    # run user code\n    __backend_agg_user_code_fn()\n\n    #reset display function\n    display = __backend_agg_display_orig\n\n    if len(__backend_agg_dfs) > 0:\n        # create a temp view\n        if type(__backend_agg_dfs[0]).__module__ == \"databricks.koalas.frame\":\n            # koalas dataframe\n            __backend_agg_dfs[0].to_spark().createOrReplaceTempView(\"DatabricksViewf403800\")\n        elif type(__backend_agg_dfs[0]).__module__ == \"pandas.core.frame\" or isinstance(__backend_agg_dfs[0], list):\n            # pandas dataframe\n            spark.createDataFrame(__backend_agg_dfs[0]).createOrReplaceTempView(\"DatabricksViewf403800\")\n        else:\n            __backend_agg_dfs[0].createOrReplaceTempView(\"DatabricksViewf403800\")\n        #run backend agg\n        display(spark.sql(\"\"\"WITH q AS (select * from DatabricksViewf403800) SELECT `year`,SUM(`numflights`) `column_84a2f1744` FROM q GROUP BY `year`\"\"\"))\n    else:\n        displayHTML(\"dataframe no longer exists. If you're using dataframe.display(), use display(dataframe) instead.\")\n\n\nfinally:\n    spark.sql(\"drop view if exists DatabricksViewf403800\")\n    display = __backend_agg_display_orig\n    del __backend_agg_display_new\n    del __backend_agg_display_orig\n    del __backend_agg_dfs\n    del __backend_agg_user_code_fn\n\n",
       "commandTitle": "Visualization 1",
       "commandType": "auto",
       "commandVersion": 0,
       "commentThread": [],
       "commentsVisible": false,
       "contentSha256Hex": null,
       "customPlotOptions": {
        "redashChart": [
         {
          "key": "type",
          "value": "CHART"
         },
         {
          "key": "options",
          "value": {
           "alignYAxesAtZero": true,
           "coefficient": 1,
           "columnConfigurationMap": {
            "x": {
             "column": "year",
             "id": "column_84a2f1741"
            },
            "y": [
             {
              "column": "numflights",
              "id": "column_84a2f1744",
              "transform": "SUM"
             }
            ]
           },
           "dateTimeFormat": "DD/MM/YYYY HH:mm",
           "direction": {
            "type": "counterclockwise"
           },
           "error_y": {
            "type": "data",
            "visible": true
           },
           "globalSeriesType": "column",
           "isAggregationOn": true,
           "legend": {
            "traceorder": "normal"
           },
           "missingValuesAsZero": true,
           "numberFormat": "0,0.[00000]",
           "percentFormat": "0[.]00%",
           "series": {
            "error_y": {
             "type": "data",
             "visible": true
            },
            "stacking": null
           },
           "seriesOptions": {
            "column_84a2f1744": {
             "type": "column",
             "yAxis": 0
            }
           },
           "showDataLabels": false,
           "sizemode": "diameter",
           "sortX": true,
           "sortY": true,
           "swappedAxes": false,
           "textFormat": "",
           "useAggregationsUi": true,
           "valuesOptions": {},
           "version": 2,
           "xAxis": {
            "labels": {
             "enabled": true
            },
            "type": "-"
           },
           "yAxis": [
            {
             "type": "logarithmic"
            },
            {
             "opposite": true,
             "type": "-"
            }
           ]
          }
         }
        ]
       },
       "datasetPreviewNameToCmdIdMap": {},
       "diffDeletes": [],
       "diffInserts": [],
       "displayType": "redashChart",
       "error": null,
       "errorDetails": null,
       "errorSummary": null,
       "errorTraceType": null,
       "finishTime": 0,
       "globalVars": {},
       "guid": "",
       "height": "auto",
       "hideCommandCode": false,
       "hideCommandResult": false,
       "iPythonMetadata": null,
       "inputWidgets": {},
       "isLockedInExamMode": false,
       "latestUser": "a user",
       "latestUserId": null,
       "listResultMetadata": null,
       "metadata": {},
       "nuid": "d9215979-46c9-4d5b-b73d-dd3594eb9647",
       "origId": 0,
       "parentHierarchy": [],
       "pivotAggregation": null,
       "pivotColumns": null,
       "position": 50.0,
       "resultDbfsErrorMessage": null,
       "resultDbfsStatus": "INLINED_IN_TREE",
       "results": null,
       "showCommandTitle": false,
       "startTime": 0,
       "state": "input",
       "streamStates": {},
       "subcommandOptions": {
        "queryPlan": {
         "groups": [
          {
           "column": "year",
           "type": "column"
          }
         ],
         "selects": [
          {
           "column": "year",
           "type": "column"
          },
          {
           "alias": "column_84a2f1744",
           "args": [
            {
             "column": "numflights",
             "type": "column"
            }
           ],
           "function": "SUM",
           "type": "function"
          }
         ]
        }
       },
       "submitTime": 0,
       "subtype": "tableResultSubCmd.visualization",
       "tableResultIndex": 0,
       "useConsistentColors": false,
       "version": "CommandV1",
       "width": "auto",
       "workflows": [],
       "xColumns": null,
       "yColumns": null
      }
     },
     "output_type": "display_data"
    }
   ],
   "source": [
    "#11a\n",
    "\n",
    "# Displaying a bar chart of the number of Domestic flights across years, first we will subset the data to get these values only\n",
    "flightsAllDF.filter((flightsAllDF['dest'] == 'United States') & (flightsAllDF['origin'] == 'United States')).sort('year', ascending = True).display()"
   ]
  },
  {
   "cell_type": "markdown",
   "metadata": {
    "application/vnd.databricks.v1+cell": {
     "cellMetadata": {},
     "inputWidgets": {},
     "nuid": "0758537c-f823-4865-ae01-9cbc9b5af702",
     "showTitle": false,
     "title": ""
    }
   },
   "source": [
    "## TASK 12. Counts of total flights"
   ]
  },
  {
   "cell_type": "code",
   "execution_count": 0,
   "metadata": {
    "application/vnd.databricks.v1+cell": {
     "cellMetadata": {
      "byteLimit": 2048000,
      "rowLimit": 10000
     },
     "inputWidgets": {},
     "nuid": "32fc80ba-d870-4238-a4b1-0770ddbda45e",
     "showTitle": false,
     "title": ""
    }
   },
   "outputs": [
    {
     "output_type": "stream",
     "name": "stdout",
     "output_type": "stream",
     "text": [
      "+----+---------------+\n|year|sum(numflights)|\n+----+---------------+\n|2015|         453316|\n|2014|         436855|\n|2011|         428426|\n|2010|         422269|\n|2012|         422180|\n|2013|         417869|\n+----+---------------+\n\n"
     ]
    }
   ],
   "source": [
    "#12a\n",
    "\n",
    "# Total number of flights flown in each of the 6 years\n",
    "flightsAllDF.groupby('year').sum('numflights').sort('sum(numflights)',ascending = False).show()"
   ]
  },
  {
   "cell_type": "markdown",
   "metadata": {
    "application/vnd.databricks.v1+cell": {
     "cellMetadata": {},
     "inputWidgets": {},
     "nuid": "c95c8219-56a8-495f-9443-d935b6621de4",
     "showTitle": false,
     "title": ""
    }
   },
   "source": [
    "## TASK 13. Counts of International flights"
   ]
  },
  {
   "cell_type": "code",
   "execution_count": 0,
   "metadata": {
    "application/vnd.databricks.v1+cell": {
     "cellMetadata": {
      "byteLimit": 2048000,
      "rowLimit": 10000
     },
     "inputWidgets": {},
     "nuid": "6424d9d1-4fd8-4f66-957b-08fa4587e8b4",
     "showTitle": false,
     "title": ""
    }
   },
   "outputs": [
    {
     "output_type": "stream",
     "name": "stdout",
     "output_type": "stream",
     "text": [
      "+----+--------------+\n|year|totalflightsin|\n+----+--------------+\n|2010|         36819|\n|2013|         36830|\n|2012|         36890|\n|2011|         37763|\n|2014|         38833|\n|2015|         41350|\n+----+--------------+\n\n"
     ]
    }
   ],
   "source": [
    "#13a\n",
    "\n",
    "# Obtaining the total number of international flights that flew to United States and saving it in a seperate dataframe\n",
    "inUSADF = flightsAllDF.filter((flightsAllDF['origin'] != 'United States') & (flightsAllDF['dest'] == 'United States')).groupby('year').sum('numflights').withColumnRenamed('sum(numflights)', 'totalflightsin').sort('totalflightsin')\n",
    "inUSADF.show()"
   ]
  },
  {
   "cell_type": "code",
   "execution_count": 0,
   "metadata": {
    "application/vnd.databricks.v1+cell": {
     "cellMetadata": {
      "byteLimit": 2048000,
      "rowLimit": 10000
     },
     "inputWidgets": {},
     "nuid": "1b40c0cc-f71b-480e-a47f-d42a566a84bc",
     "showTitle": false,
     "title": ""
    }
   },
   "outputs": [
    {
     "output_type": "stream",
     "name": "stdout",
     "output_type": "stream",
     "text": [
      "+----+---------------+\n|year|totalflightsout|\n+----+---------------+\n|2010|          37337|\n|2012|          37838|\n|2013|          37907|\n|2011|          37921|\n|2014|          39668|\n|2015|          41964|\n+----+---------------+\n\n+----+--------------+---------------+------+\n|year|totalflightsin|totalflightsout|morein|\n+----+--------------+---------------+------+\n|2010|         36819|          37337| false|\n|2011|         37763|          37921| false|\n|2012|         36890|          37838| false|\n|2013|         36830|          37907| false|\n|2014|         38833|          39668| false|\n|2015|         41350|          41964| false|\n+----+--------------+---------------+------+\n\n"
     ]
    }
   ],
   "source": [
    "#13b\n",
    "\n",
    "# Obtaining the total number of international flights that flew out United States and saving it in a seperate dataframe\n",
    "outUSADF = flightsAllDF.filter((flightsAllDF['origin'] == 'United States') & (flightsAllDF['dest'] != 'United States')).groupby('year').sum('numflights').withColumnRenamed('sum(numflights)', 'totalflightsout').sort('totalflightsout')\n",
    "outUSADF.show()\n",
    "\n",
    "# Joining both inUSADF and outUSADF dataframes by using join() method of Spark Dataframe\n",
    "joined_USADF = inUSADF.join(outUSADF, on = 'year', how = 'inner')\n",
    "joined_USADF = joined_USADF.select('*', ((joined_USADF['totalflightsin']) > (joined_USADF['totalflightsout'])).alias('morein')).sort('year')\n",
    "joined_USADF.show()\n"
   ]
  },
  {
   "cell_type": "markdown",
   "metadata": {
    "application/vnd.databricks.v1+cell": {
     "cellMetadata": {},
     "inputWidgets": {},
     "nuid": "5691a0d2-cc4e-4551-bb10-5f78db127a9c",
     "showTitle": false,
     "title": ""
    }
   },
   "source": [
    "## TASK 14. Aggregate statistics"
   ]
  },
  {
   "cell_type": "code",
   "execution_count": 0,
   "metadata": {
    "application/vnd.databricks.v1+cell": {
     "cellMetadata": {
      "byteLimit": 2048000,
      "rowLimit": 10000
     },
     "inputWidgets": {},
     "nuid": "443ba17e-8696-419b-a148-60b278126174",
     "showTitle": false,
     "title": ""
    }
   },
   "outputs": [
    {
     "output_type": "stream",
     "name": "stdout",
     "output_type": "stream",
     "text": [
      "+----+--------------+------------------+--------------+\n|year|sumflightstoUS|    avgflightstoUS|maxflightstoUS|\n+----+--------------+------------------+--------------+\n|2010|         36819| 283.2230769230769|          8305|\n|2011|         37763| 299.7063492063492|          8650|\n|2012|         36890| 312.6271186440678|          8097|\n|2013|         36830| 320.2608695652174|          7983|\n|2014|         38833| 331.9059829059829|          8177|\n|2015|         41350|333.46774193548384|          8483|\n+----+--------------+------------------+--------------+\n\n"
     ]
    }
   ],
   "source": [
    "#14a\n",
    "\n",
    "# Filtering the rows to get the records where dest is United States and the origin is not United States and than applying the Aggregate Statistics on the resulting DF to get sum, avg and max for each year\n",
    "flightsAllDF.filter((flightsAllDF['origin'] != 'United States') & (flightsAllDF['dest'] == 'United States')).groupby('year').agg(F.sum('numflights').alias('sumflightstoUS'), F.avg('numflights').alias('avgflightstoUS'), F.max('numflights').alias('maxflightstoUS')).sort('year').show()"
   ]
  }
 ],
 "metadata": {
  "application/vnd.databricks.v1+notebook": {
   "dashboards": [],
   "environmentMetadata": null,
   "language": "python",
   "notebookMetadata": {
    "mostRecentlyExecutedCommandWithImplicitDF": {
     "commandId": 1659957716364932,
     "dataframes": [
      "_sqldf"
     ]
    },
    "pythonIndentUnit": 4
   },
   "notebookName": "Hw5_Ahmad_Ahsan",
   "widgets": {}
  }
 },
 "nbformat": 4,
 "nbformat_minor": 0
}
